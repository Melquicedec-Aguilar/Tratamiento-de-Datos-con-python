{
  "nbformat": 4,
  "nbformat_minor": 0,
  "metadata": {
    "colab": {
      "name": "02Numpy.ipynb",
      "provenance": [],
      "collapsed_sections": [],
      "authorship_tag": "ABX9TyODtIH76xEPjtyBxxa5EObr",
      "include_colab_link": true
    },
    "kernelspec": {
      "name": "python3",
      "display_name": "Python 3"
    },
    "language_info": {
      "name": "python"
    }
  },
  "cells": [
    {
      "cell_type": "markdown",
      "metadata": {
        "id": "view-in-github",
        "colab_type": "text"
      },
      "source": [
        "<a href=\"https://colab.research.google.com/github/Melquicedec-Aguilar/Tratamiento-de-datos-con-python/blob/main/02Numpy.ipynb\" target=\"_parent\"><img src=\"https://colab.research.google.com/assets/colab-badge.svg\" alt=\"Open In Colab\"/></a>"
      ]
    },
    {
      "cell_type": "markdown",
      "source": [
        "# Conceptos básicos de *Numpy*\n",
        "\n",
        "[*Numpy*](http://www.numpy.org/) es un paquete que contiene una biblioteca de recursos especiales en realizar operaciones optimizadas en arreglos de datos\n",
        "\n",
        "El proyecto *Numpy* cuenta con una extensa documentación, la cual esta disponible en https://docs.scipy.org/doc/numpy/"
      ],
      "metadata": {
        "id": "v4PpeS_E2Rik"
      }
    },
    {
      "cell_type": "code",
      "source": [
        "#Instalacion del paquete\n",
        "#!pip install numpy"
      ],
      "metadata": {
        "id": "MWV5Q4ldt_6u"
      },
      "execution_count": null,
      "outputs": []
    },
    {
      "cell_type": "code",
      "source": [
        "#Importar el paquete numpy\n",
        "import numpy as np"
      ],
      "metadata": {
        "id": "zXS1vbOtuf08"
      },
      "execution_count": 1,
      "outputs": []
    },
    {
      "cell_type": "code",
      "source": [
        "arreglo = np.array([1,2,3])\n",
        "arreglo"
      ],
      "metadata": {
        "colab": {
          "base_uri": "https://localhost:8080/"
        },
        "id": "KkVT41S9unee",
        "outputId": "e332e98c-2bf3-41e6-a32b-79ef5c388d9d"
      },
      "execution_count": null,
      "outputs": [
        {
          "output_type": "execute_result",
          "data": {
            "text/plain": [
              "array([1. , 2. , 3. , 3.5])"
            ]
          },
          "metadata": {},
          "execution_count": 5
        }
      ]
    },
    {
      "cell_type": "code",
      "source": [
        "type(arreglo)"
      ],
      "metadata": {
        "colab": {
          "base_uri": "https://localhost:8080/"
        },
        "id": "NQdiN6oRu3eG",
        "outputId": "9560e147-86e8-4ee6-8622-1c5176400f8f"
      },
      "execution_count": null,
      "outputs": [
        {
          "output_type": "execute_result",
          "data": {
            "text/plain": [
              "numpy.ndarray"
            ]
          },
          "metadata": {},
          "execution_count": 3
        }
      ]
    },
    {
      "cell_type": "code",
      "source": [
        "for i in arreglo:\n",
        "  print(\"valor: {}, tipo: {}\".format(i, type(i)))"
      ],
      "metadata": {
        "colab": {
          "base_uri": "https://localhost:8080/"
        },
        "id": "lHwGwooGqkNC",
        "outputId": "f3df9fd8-2ee8-437b-c7e7-af605bc23462"
      },
      "execution_count": null,
      "outputs": [
        {
          "output_type": "stream",
          "name": "stdout",
          "text": [
            "valor: 1.0, tipo: <class 'numpy.float64'>\n",
            "valor: 2.0, tipo: <class 'numpy.float64'>\n",
            "valor: 3.0, tipo: <class 'numpy.float64'>\n",
            "valor: 3.5, tipo: <class 'numpy.float64'>\n"
          ]
        }
      ]
    },
    {
      "cell_type": "code",
      "source": [
        "arreglo = np.array([1,2,3,3.5])\n",
        "print(arreglo)\n",
        "print(type(arreglo))\n",
        "for i in arreglo:\n",
        "  print(\"valor: {}, tipo: {}\".format(i, type(i)))"
      ],
      "metadata": {
        "colab": {
          "base_uri": "https://localhost:8080/"
        },
        "id": "N-zQ3nRerLpr",
        "outputId": "131a3798-0154-4af4-eb09-5a79352a417d"
      },
      "execution_count": null,
      "outputs": [
        {
          "output_type": "stream",
          "name": "stdout",
          "text": [
            "[1.  2.  3.  3.5]\n",
            "<class 'numpy.ndarray'>\n",
            "valor: 1.0, tipo: <class 'numpy.float64'>\n",
            "valor: 2.0, tipo: <class 'numpy.float64'>\n",
            "valor: 3.0, tipo: <class 'numpy.float64'>\n",
            "valor: 3.5, tipo: <class 'numpy.float64'>\n"
          ]
        }
      ]
    },
    {
      "cell_type": "code",
      "source": [
        "arreglo = np.array(['d',3, (12,6,True)], dtype=object)\n",
        "for i in arreglo:\n",
        "  print(\"valor: {}, tipo: {}\".format(i, type(i)))\n"
      ],
      "metadata": {
        "colab": {
          "base_uri": "https://localhost:8080/"
        },
        "id": "krg3s7F8rYy1",
        "outputId": "5cc47b02-e3a2-4cdb-e59a-4f69ab69ee53"
      },
      "execution_count": null,
      "outputs": [
        {
          "output_type": "stream",
          "name": "stdout",
          "text": [
            "valor: d, tipo: <class 'str'>\n",
            "valor: 3, tipo: <class 'int'>\n",
            "valor: (12, 6, True), tipo: <class 'tuple'>\n"
          ]
        }
      ]
    },
    {
      "cell_type": "markdown",
      "source": [
        "### El atributo ```shape```.\n",
        "\n",
        "Los arreglos cuentan con el atributo ```shape```, el cual describe el número de elementos que contiene cada dimensión del arreglo.\n",
        "\n",
        "El valor de ```shape``` es un objeto tipo tuple que contiene una sucesión de números.\n",
        "\n",
        "```\n",
        "(<n1>, <n2>, <n3> ... <nm>)\n",
        "```\n",
        "\n",
        "* Donde ```<n1>``` corresponde al número de elementos en la primera dimensión,  ```<n2> ```corresponde al número de elementos en la segunda dimensión y así sucesivamente hasta ```<nm>``` , la cual corrersponde al número de elementos de la dimensión ```m```"
      ],
      "metadata": {
        "id": "1WmP78CdsDp6"
      }
    },
    {
      "cell_type": "code",
      "source": [
        "arreglo = np.array((1,2,3))\n",
        "print(arreglo.ndim) #Numero de dimensiones\n",
        "print(arreglo.shape) #Numero de elementos en cada dimension\n",
        "print(arreglo.size) #Numero total de elementos en el arreglo"
      ],
      "metadata": {
        "colab": {
          "base_uri": "https://localhost:8080/"
        },
        "id": "5rbgjFBnsyPT",
        "outputId": "5181f16c-a112-4317-91b8-ca2725f86cd0"
      },
      "execution_count": null,
      "outputs": [
        {
          "output_type": "stream",
          "name": "stdout",
          "text": [
            "1\n",
            "(3,)\n",
            "3\n"
          ]
        }
      ]
    },
    {
      "cell_type": "code",
      "source": [
        "#Arreglo bidimensional \n",
        "arreglo = np.array([[1,2,3],\n",
        "                   [4,5,6]])\n",
        "\n",
        "print(arreglo.ndim) #Numero de dimensiones\n",
        "print(arreglo.shape) #Numero de elementos en cada dimension\n",
        "print(arreglo.size) #Numero total de elementos en el arreglo"
      ],
      "metadata": {
        "colab": {
          "base_uri": "https://localhost:8080/"
        },
        "id": "6pZ1_BcLtL8S",
        "outputId": "7d9a0335-2c0e-4b93-f3ef-d38496696b79"
      },
      "execution_count": null,
      "outputs": [
        {
          "output_type": "stream",
          "name": "stdout",
          "text": [
            "2\n",
            "(2, 3)\n",
            "6\n"
          ]
        }
      ]
    },
    {
      "cell_type": "code",
      "source": [
        "#Arreglo tridimensional \n",
        "arreglo = np.array([[[1,2], [3,4]],\n",
        "                   [[5,6], [7,8]]])\n",
        "\n",
        "print(arreglo.ndim) #Numero de dimensiones\n",
        "print(arreglo.shape) #Numero de elementos en cada dimension\n",
        "print(arreglo.size) #Numero total de elementos en el arreglo\n",
        "print(arreglo)"
      ],
      "metadata": {
        "colab": {
          "base_uri": "https://localhost:8080/"
        },
        "id": "PYKOSyRPtgNL",
        "outputId": "32cf405f-3dd0-4d34-bfb6-606a8e12f4ae"
      },
      "execution_count": null,
      "outputs": [
        {
          "output_type": "stream",
          "name": "stdout",
          "text": [
            "3\n",
            "(2, 2, 2)\n",
            "8\n",
            "[[[1 2]\n",
            "  [3 4]]\n",
            "\n",
            " [[5 6]\n",
            "  [7 8]]]\n"
          ]
        }
      ]
    },
    {
      "cell_type": "code",
      "source": [
        "np.array(((1,2), (3,4)))\n",
        "#np.array(((1,2), (3,4))).shape"
      ],
      "metadata": {
        "colab": {
          "base_uri": "https://localhost:8080/"
        },
        "id": "wuf1j0SauEQh",
        "outputId": "865ef193-ecec-49f4-8e50-587c6b1c8463"
      },
      "execution_count": null,
      "outputs": [
        {
          "output_type": "execute_result",
          "data": {
            "text/plain": [
              "array([[1, 2],\n",
              "       [3, 4]])"
            ]
          },
          "metadata": {},
          "execution_count": 17
        }
      ]
    },
    {
      "cell_type": "code",
      "source": [
        "#Tipo por default\n",
        "np.array(((1,2), (3,4))).dtype"
      ],
      "metadata": {
        "colab": {
          "base_uri": "https://localhost:8080/"
        },
        "id": "BQ3Oqk_Quhq5",
        "outputId": "64dbe654-e5c9-44f1-e40f-b5a1a5f60de0"
      },
      "execution_count": null,
      "outputs": [
        {
          "output_type": "execute_result",
          "data": {
            "text/plain": [
              "dtype('int64')"
            ]
          },
          "metadata": {},
          "execution_count": 18
        }
      ]
    },
    {
      "cell_type": "code",
      "source": [
        "np.array(((-1,2), (3,4)), dtype = np.uint8)"
      ],
      "metadata": {
        "colab": {
          "base_uri": "https://localhost:8080/"
        },
        "id": "30VZMx29uoO8",
        "outputId": "9d363748-ecbf-42bf-ab02-1293e206a043"
      },
      "execution_count": null,
      "outputs": [
        {
          "output_type": "execute_result",
          "data": {
            "text/plain": [
              "array([[255,   2],\n",
              "       [  3,   4]], dtype=uint8)"
            ]
          },
          "metadata": {},
          "execution_count": 21
        }
      ]
    },
    {
      "cell_type": "code",
      "source": [
        "np.array(((-1,2), (3,4)), dtype = np.uint64)"
      ],
      "metadata": {
        "colab": {
          "base_uri": "https://localhost:8080/"
        },
        "id": "YG0Wyodku5Xp",
        "outputId": "9a633d0f-4d3d-43b2-a856-78a0dc27b8d7"
      },
      "execution_count": null,
      "outputs": [
        {
          "output_type": "execute_result",
          "data": {
            "text/plain": [
              "array([[18446744073709551615,                    2],\n",
              "       [                   3,                    4]], dtype=uint64)"
            ]
          },
          "metadata": {},
          "execution_count": 22
        }
      ]
    },
    {
      "cell_type": "code",
      "source": [
        "#Tipos complejos\n",
        "complejo = np.array([[25.6j, 11.24],\n",
        "                     [-21.890-15702174.43j, 0]])\n",
        "print(complejo)\n",
        "print(complejo.dtype)"
      ],
      "metadata": {
        "colab": {
          "base_uri": "https://localhost:8080/"
        },
        "id": "c5dnLv00vCJk",
        "outputId": "3dcff4a4-99ea-4a6a-c6ee-5ed06e7173c6"
      },
      "execution_count": null,
      "outputs": [
        {
          "output_type": "stream",
          "name": "stdout",
          "text": [
            "[[  0.  +2.56000000e+01j  11.24+0.00000000e+00j]\n",
            " [-21.89-1.57021744e+07j   0.  +0.00000000e+00j]]\n",
            "complex128\n"
          ]
        }
      ]
    },
    {
      "cell_type": "code",
      "source": [
        "np.array(((1, 'HOla'), (False,0)))"
      ],
      "metadata": {
        "colab": {
          "base_uri": "https://localhost:8080/"
        },
        "id": "pmRzGWFPvbTt",
        "outputId": "bdc04b4b-fb91-4c8a-b279-4b52341df782"
      },
      "execution_count": null,
      "outputs": [
        {
          "output_type": "execute_result",
          "data": {
            "text/plain": [
              "array([['1', 'HOla'],\n",
              "       ['False', '0']], dtype='<U21')"
            ]
          },
          "metadata": {},
          "execution_count": 24
        }
      ]
    },
    {
      "cell_type": "code",
      "source": [
        "#Arreglo boleano\n",
        "np.array(((1, 'HOla'), (False,0)), dtype = np.bool_) "
      ],
      "metadata": {
        "colab": {
          "base_uri": "https://localhost:8080/"
        },
        "id": "v86leyjovoVZ",
        "outputId": "8aad1c5f-2935-4e91-fd41-06c53071de83"
      },
      "execution_count": null,
      "outputs": [
        {
          "output_type": "execute_result",
          "data": {
            "text/plain": [
              "array([[ True,  True],\n",
              "       [False, False]])"
            ]
          },
          "metadata": {},
          "execution_count": 25
        }
      ]
    },
    {
      "cell_type": "code",
      "source": [
        "#Tipo cadena\n",
        "np.array((['Hugo', 'Paco'], ['Luis Ignacio', 'Donald']))"
      ],
      "metadata": {
        "colab": {
          "base_uri": "https://localhost:8080/"
        },
        "id": "zAOJfCnVv_iM",
        "outputId": "6f9ba40d-12c8-4127-a0ec-f38a30551d82"
      },
      "execution_count": null,
      "outputs": [
        {
          "output_type": "execute_result",
          "data": {
            "text/plain": [
              "array([['Hugo', 'Paco'],\n",
              "       ['Luis Ignacio', 'Donald']], dtype='<U12')"
            ]
          },
          "metadata": {},
          "execution_count": 26
        }
      ]
    },
    {
      "cell_type": "code",
      "source": [
        "np.array((['Hugo', 'Paco'], ['Luis Ignacio', 'Donald']), dtype = np.string_)"
      ],
      "metadata": {
        "colab": {
          "base_uri": "https://localhost:8080/"
        },
        "id": "oCNqxjTcwQg-",
        "outputId": "07d9196f-67e5-4503-b5b4-4f82ed0c1b27"
      },
      "execution_count": null,
      "outputs": [
        {
          "output_type": "execute_result",
          "data": {
            "text/plain": [
              "array([[b'Hugo', b'Paco'],\n",
              "       [b'Luis Ignacio', b'Donald']], dtype='|S12')"
            ]
          },
          "metadata": {},
          "execution_count": 28
        }
      ]
    },
    {
      "cell_type": "code",
      "source": [
        "#Trabajar con fechas\n",
        "from datetime import datetime\n",
        "\n",
        "fechas = np.array([[np.datetime64(\"2019-08-25T23:59:45.231\"), \n",
        "                   np.datetime64(\"2020-07-23\")],\n",
        "                   [np.datetime64(datetime(year=2018, month=12, day=22)),\n",
        "                   np.datetime64(\"2019-03-01T11:25\")]])\n",
        "\n",
        "fechas"
      ],
      "metadata": {
        "colab": {
          "base_uri": "https://localhost:8080/"
        },
        "id": "qg9AXoeHwfFi",
        "outputId": "5bb2d799-74c7-4f53-e4a4-28dbb361e9f2"
      },
      "execution_count": null,
      "outputs": [
        {
          "output_type": "execute_result",
          "data": {
            "text/plain": [
              "array([['2019-08-25T23:59:45.231000', '2020-07-23T00:00:00.000000'],\n",
              "       ['2018-12-22T00:00:00.000000', '2019-03-01T11:25:00.000000']],\n",
              "      dtype='datetime64[us]')"
            ]
          },
          "metadata": {},
          "execution_count": 29
        }
      ]
    },
    {
      "cell_type": "code",
      "source": [
        "#deltatime representa los segundos en un lapso de tiempo\n",
        "print(datetime.now())\n",
        "np.datetime64(datetime.now()) - fechas"
      ],
      "metadata": {
        "colab": {
          "base_uri": "https://localhost:8080/"
        },
        "id": "kSEd2xkrxE57",
        "outputId": "1781d1d0-2019-4aa5-9b11-e47fa8f95759"
      },
      "execution_count": null,
      "outputs": [
        {
          "output_type": "stream",
          "name": "stdout",
          "text": [
            "2022-06-28 14:46:44.340093\n"
          ]
        },
        {
          "output_type": "execute_result",
          "data": {
            "text/plain": [
              "array([[ 89650019110918,  60965204341918],\n",
              "       [110990804341918, 104988104341918]], dtype='timedelta64[us]')"
            ]
          },
          "metadata": {},
          "execution_count": 31
        }
      ]
    },
    {
      "cell_type": "code",
      "source": [
        "a1 = np.array([[[1,2], [3,4]],\n",
        "                   [[5,6], [7,8]]])\n",
        "\n",
        "a2 = np.array([[[10,20], [30,40]],\n",
        "                   [[50,60], [70,80]]])\n",
        "\n",
        "a3 = np.array((100,200))\n",
        "\n",
        "print(a1 + a2)\n",
        "print('')\n",
        "print(a1 * a2)\n",
        "print('')\n",
        "print(a1 * a3) #se puede generar la operacion si las dimensiones son diferentes pero sea el mismo shape"
      ],
      "metadata": {
        "colab": {
          "base_uri": "https://localhost:8080/"
        },
        "id": "1W5E-de5x8P8",
        "outputId": "117326f6-e6c1-48a0-87cb-83b7b2e7270d"
      },
      "execution_count": null,
      "outputs": [
        {
          "output_type": "stream",
          "name": "stdout",
          "text": [
            "[[[11 22]\n",
            "  [33 44]]\n",
            "\n",
            " [[55 66]\n",
            "  [77 88]]]\n",
            "\n",
            "[[[ 10  40]\n",
            "  [ 90 160]]\n",
            "\n",
            " [[250 360]\n",
            "  [490 640]]]\n",
            "\n",
            "[[[ 100  400]\n",
            "  [ 300  800]]\n",
            "\n",
            " [[ 500 1200]\n",
            "  [ 700 1600]]]\n"
          ]
        }
      ]
    },
    {
      "cell_type": "code",
      "source": [
        "#ndarray    otra forma de generar arreglos el cual regresa un arreglo con valores no definidos cercanos a 0\n",
        "\n",
        "np.ndarray((2,2), dtype=float)"
      ],
      "metadata": {
        "colab": {
          "base_uri": "https://localhost:8080/"
        },
        "id": "Wn_LT_dVy8f6",
        "outputId": "280c21d6-8a9d-4181-b625-5961df6922f0"
      },
      "execution_count": null,
      "outputs": [
        {
          "output_type": "execute_result",
          "data": {
            "text/plain": [
              "array([[4.42929946e-310, 3.01208131e-310],\n",
              "       [5.48367434e-310, 5.18710156e-310]])"
            ]
          },
          "metadata": {},
          "execution_count": 38
        }
      ]
    },
    {
      "cell_type": "code",
      "source": [
        "np.ndarray((2,2), dtype='>U10')"
      ],
      "metadata": {
        "colab": {
          "base_uri": "https://localhost:8080/"
        },
        "id": "WqEhrI7nzcih",
        "outputId": "47e06b29-b5f6-4c30-cf07-55a2df9b612b"
      },
      "execution_count": null,
      "outputs": [
        {
          "output_type": "execute_result",
          "data": {
            "text/plain": [
              "array([['', ''],\n",
              "       ['', '']], dtype='>U10')"
            ]
          },
          "metadata": {},
          "execution_count": 37
        }
      ]
    },
    {
      "cell_type": "code",
      "source": [
        "np.ndarray((2,5,3,6))"
      ],
      "metadata": {
        "colab": {
          "base_uri": "https://localhost:8080/"
        },
        "id": "SvKiuJu-0H_c",
        "outputId": "96a86909-91e3-43a0-86e3-cac80ada04a2"
      },
      "execution_count": null,
      "outputs": [
        {
          "output_type": "execute_result",
          "data": {
            "text/plain": [
              "array([[[[2.79130489e-316, 5.49370959e-317, 6.84774985e-321,\n",
              "                      nan, 1.12646967e-321, 0.00000000e+000],\n",
              "         [5.81241632e+180, 1.91560706e+227, 8.02678501e-095,\n",
              "          1.14199444e+243, 1.05894728e-153, 6.65957504e-013],\n",
              "         [6.54762579e+199, 7.29489530e+175, 1.04989162e-153,\n",
              "          1.43273565e+228, 3.49824246e+228, 5.13042877e-095]],\n",
              "\n",
              "        [[6.12030516e+257, 7.75891121e+228, 1.12759966e+257,\n",
              "          1.69336693e-152, 5.81241632e+180, 6.19633416e+223],\n",
              "         [1.23558994e-259, 4.90922779e+252, 4.47593784e-091,\n",
              "          1.72861078e+270, 4.83245960e+276, 1.66041815e+243],\n",
              "         [2.39090581e-258, 4.93418129e+257, 8.16552317e-085,\n",
              "          2.93282800e+222, 1.06184931e-153, 1.66037173e+243]],\n",
              "\n",
              "        [[1.94209101e+227, 2.59345489e+161, 1.42736776e+228,\n",
              "          9.77824555e+199, 6.01334653e-154, 3.98388207e+252],\n",
              "         [7.74412839e+228, 2.34950230e+251, 2.88854907e+214,\n",
              "          7.75111104e+228, 1.32971161e-152, 4.23275990e+175],\n",
              "         [1.49810809e+248, 2.46091100e-154, 1.71870547e+161,\n",
              "          2.43207542e-152, 4.93432793e+257, 3.44983154e+175]],\n",
              "\n",
              "        [[5.05966630e-085, 2.43861180e-152, 4.23275990e+175,\n",
              "          3.94655056e+180, 1.02182193e-152, 1.24806185e-089],\n",
              "         [5.28555529e+180, 3.02876088e-152, 2.28896110e+243,\n",
              "          2.32754061e+251, 6.12393503e+228, 1.94209091e+227],\n",
              "         [7.22756687e+159, 5.93245227e+276, 2.04723934e+190,\n",
              "          4.45718007e+217, 5.80426330e+180, 1.45913207e-152]],\n",
              "\n",
              "        [[7.62866067e+228, 1.89122289e+219, 1.94255855e+227,\n",
              "          1.23781360e-259, 1.94860697e-153, 6.78690190e+199],\n",
              "         [9.77824555e+199, 6.01334653e-154, 3.62483430e+228,\n",
              "          1.81596891e-152, 3.44983154e+175, 5.81816259e+180],\n",
              "         [7.26607058e+223, 2.41702714e-152, 9.08367203e+223,\n",
              "          1.27966391e-152, 6.01346953e-154, 4.82408859e+228]]],\n",
              "\n",
              "\n",
              "       [[[5.50409697e+257, 1.09918048e+155, 1.96086570e+243,\n",
              "          1.69593624e-152, 2.35621900e+251, 3.59075583e+185],\n",
              "         [5.82471374e+257, 6.01346953e-154, 1.14199466e+243,\n",
              "          1.09918048e+155, 1.96086570e+243, 1.69593624e-152],\n",
              "         [2.45651243e+198, 5.60020400e+199, 4.26137297e+257,\n",
              "          2.17371178e+068, 3.98837334e+252, 1.54196602e+256]],\n",
              "\n",
              "        [[1.17234088e+214, 4.71104102e+257, 4.83245960e+276,\n",
              "          1.50761589e+161, 1.03891457e-152, 1.57434280e+161],\n",
              "         [6.01346954e-154, 1.43274651e+228, 5.33027620e+228,\n",
              "          2.31881454e-152, 2.45651249e+198, 1.27966391e-152],\n",
              "         [6.02202165e+175, 8.78418848e+247, 6.60863620e+265,\n",
              "          6.01346953e-154, 1.54197784e+256, 1.17234088e+214]],\n",
              "\n",
              "        [[1.41921660e-105, 2.46598823e-154, 1.94811105e+227,\n",
              "          5.93245363e+276, 2.04913258e+214, 3.81996749e+180],\n",
              "         [2.78143451e+180, 6.01334637e-154, 2.43665842e+257,\n",
              "          9.47751235e+170, 9.19596733e+170, 8.19690728e+247],\n",
              "         [4.88475815e+252, 4.47585687e-091, 1.03958056e-028,\n",
              "          4.83245961e+276, 1.17076152e+214, 4.00979049e+087]],\n",
              "\n",
              "        [[1.21697546e-152, 1.66043439e+243, 3.71192453e-027,\n",
              "          7.69353549e+270, 1.72219190e+097, 7.22762050e+159],\n",
              "         [2.19341567e-152, 2.44837074e+198, 1.17076152e+214,\n",
              "          3.41210057e+161, 4.45512862e-091, 7.61835562e-010],\n",
              "         [3.91369381e+180, 1.35285974e+131, 1.94139270e-109,\n",
              "          1.35717430e+131, 3.44353323e-086, 1.27731736e-152]],\n",
              "\n",
              "        [[1.72980599e+156, 1.14365493e+243, 5.02801763e+223,\n",
              "          4.24438873e+175, 1.39621502e+195, 1.21906125e-152],\n",
              "         [3.77280114e+233, 2.50479801e+262, 1.19428152e+222,\n",
              "          6.26526709e-085, 2.18476858e-070, 9.16526748e+242],\n",
              "         [3.48989958e-086, 2.10935223e-110, 2.18932572e-070,\n",
              "          1.35717430e+131, 3.44353323e-086, 5.28595594e-085]]]])"
            ]
          },
          "metadata": {},
          "execution_count": 40
        }
      ]
    },
    {
      "cell_type": "code",
      "source": [
        "#ones genera un arreglo exclusivamente con el numero 1 en cada elemento\n",
        "\n",
        "np.ones((2,5,3,6))"
      ],
      "metadata": {
        "colab": {
          "base_uri": "https://localhost:8080/"
        },
        "id": "GEKiiDn3zsVV",
        "outputId": "fea340ae-23c6-415c-b588-79f2502d1fd3"
      },
      "execution_count": null,
      "outputs": [
        {
          "output_type": "execute_result",
          "data": {
            "text/plain": [
              "array([[[[1., 1., 1., 1., 1., 1.],\n",
              "         [1., 1., 1., 1., 1., 1.],\n",
              "         [1., 1., 1., 1., 1., 1.]],\n",
              "\n",
              "        [[1., 1., 1., 1., 1., 1.],\n",
              "         [1., 1., 1., 1., 1., 1.],\n",
              "         [1., 1., 1., 1., 1., 1.]],\n",
              "\n",
              "        [[1., 1., 1., 1., 1., 1.],\n",
              "         [1., 1., 1., 1., 1., 1.],\n",
              "         [1., 1., 1., 1., 1., 1.]],\n",
              "\n",
              "        [[1., 1., 1., 1., 1., 1.],\n",
              "         [1., 1., 1., 1., 1., 1.],\n",
              "         [1., 1., 1., 1., 1., 1.]],\n",
              "\n",
              "        [[1., 1., 1., 1., 1., 1.],\n",
              "         [1., 1., 1., 1., 1., 1.],\n",
              "         [1., 1., 1., 1., 1., 1.]]],\n",
              "\n",
              "\n",
              "       [[[1., 1., 1., 1., 1., 1.],\n",
              "         [1., 1., 1., 1., 1., 1.],\n",
              "         [1., 1., 1., 1., 1., 1.]],\n",
              "\n",
              "        [[1., 1., 1., 1., 1., 1.],\n",
              "         [1., 1., 1., 1., 1., 1.],\n",
              "         [1., 1., 1., 1., 1., 1.]],\n",
              "\n",
              "        [[1., 1., 1., 1., 1., 1.],\n",
              "         [1., 1., 1., 1., 1., 1.],\n",
              "         [1., 1., 1., 1., 1., 1.]],\n",
              "\n",
              "        [[1., 1., 1., 1., 1., 1.],\n",
              "         [1., 1., 1., 1., 1., 1.],\n",
              "         [1., 1., 1., 1., 1., 1.]],\n",
              "\n",
              "        [[1., 1., 1., 1., 1., 1.],\n",
              "         [1., 1., 1., 1., 1., 1.],\n",
              "         [1., 1., 1., 1., 1., 1.]]]])"
            ]
          },
          "metadata": {},
          "execution_count": 39
        }
      ]
    },
    {
      "cell_type": "code",
      "source": [
        "# zero genera un arreglo exclusivamente con el numero 0 en cada elemento\n",
        "np.zeros((2,5,3,6))"
      ],
      "metadata": {
        "colab": {
          "base_uri": "https://localhost:8080/"
        },
        "id": "MQy9DUWT0N83",
        "outputId": "4d6f113a-86ef-4514-c391-2e1ac9cdf45b"
      },
      "execution_count": null,
      "outputs": [
        {
          "output_type": "execute_result",
          "data": {
            "text/plain": [
              "array([[[[0., 0., 0., 0., 0., 0.],\n",
              "         [0., 0., 0., 0., 0., 0.],\n",
              "         [0., 0., 0., 0., 0., 0.]],\n",
              "\n",
              "        [[0., 0., 0., 0., 0., 0.],\n",
              "         [0., 0., 0., 0., 0., 0.],\n",
              "         [0., 0., 0., 0., 0., 0.]],\n",
              "\n",
              "        [[0., 0., 0., 0., 0., 0.],\n",
              "         [0., 0., 0., 0., 0., 0.],\n",
              "         [0., 0., 0., 0., 0., 0.]],\n",
              "\n",
              "        [[0., 0., 0., 0., 0., 0.],\n",
              "         [0., 0., 0., 0., 0., 0.],\n",
              "         [0., 0., 0., 0., 0., 0.]],\n",
              "\n",
              "        [[0., 0., 0., 0., 0., 0.],\n",
              "         [0., 0., 0., 0., 0., 0.],\n",
              "         [0., 0., 0., 0., 0., 0.]]],\n",
              "\n",
              "\n",
              "       [[[0., 0., 0., 0., 0., 0.],\n",
              "         [0., 0., 0., 0., 0., 0.],\n",
              "         [0., 0., 0., 0., 0., 0.]],\n",
              "\n",
              "        [[0., 0., 0., 0., 0., 0.],\n",
              "         [0., 0., 0., 0., 0., 0.],\n",
              "         [0., 0., 0., 0., 0., 0.]],\n",
              "\n",
              "        [[0., 0., 0., 0., 0., 0.],\n",
              "         [0., 0., 0., 0., 0., 0.],\n",
              "         [0., 0., 0., 0., 0., 0.]],\n",
              "\n",
              "        [[0., 0., 0., 0., 0., 0.],\n",
              "         [0., 0., 0., 0., 0., 0.],\n",
              "         [0., 0., 0., 0., 0., 0.]],\n",
              "\n",
              "        [[0., 0., 0., 0., 0., 0.],\n",
              "         [0., 0., 0., 0., 0., 0.],\n",
              "         [0., 0., 0., 0., 0., 0.]]]])"
            ]
          },
          "metadata": {},
          "execution_count": 41
        }
      ]
    },
    {
      "cell_type": "code",
      "source": [
        "np.zeros((2,2,2), dtype=bool)"
      ],
      "metadata": {
        "colab": {
          "base_uri": "https://localhost:8080/"
        },
        "id": "klVkrPut0YBD",
        "outputId": "7b80930a-2abe-414e-9563-a8bb0a1bfde1"
      },
      "execution_count": null,
      "outputs": [
        {
          "output_type": "execute_result",
          "data": {
            "text/plain": [
              "array([[[False, False],\n",
              "        [False, False]],\n",
              "\n",
              "       [[False, False],\n",
              "        [False, False]]])"
            ]
          },
          "metadata": {},
          "execution_count": 43
        }
      ]
    },
    {
      "cell_type": "code",
      "source": [
        "np.ones((2,2,2), dtype=bool)"
      ],
      "metadata": {
        "colab": {
          "base_uri": "https://localhost:8080/"
        },
        "id": "SGOYBG8s0piy",
        "outputId": "d48d4e40-54ac-4093-e8ff-56a0d4013466"
      },
      "execution_count": null,
      "outputs": [
        {
          "output_type": "execute_result",
          "data": {
            "text/plain": [
              "array([[[ True,  True],\n",
              "        [ True,  True]],\n",
              "\n",
              "       [[ True,  True],\n",
              "        [ True,  True]]])"
            ]
          },
          "metadata": {},
          "execution_count": 44
        }
      ]
    },
    {
      "cell_type": "code",
      "source": [
        "#empty genera arregls con valores aleatorios no inicializados \n",
        "\n",
        "np.empty((2,2,2), dtype=np.int8)"
      ],
      "metadata": {
        "colab": {
          "base_uri": "https://localhost:8080/"
        },
        "id": "WRi8-Wtu0yuu",
        "outputId": "a06c0b37-fabe-47ee-9a36-51c3860bcde9"
      },
      "execution_count": null,
      "outputs": [
        {
          "output_type": "execute_result",
          "data": {
            "text/plain": [
              "array([[[ 64,   7],\n",
              "        [-40,   2]],\n",
              "\n",
              "       [[  0,   0],\n",
              "        [  0,   0]]], dtype=int8)"
            ]
          },
          "metadata": {},
          "execution_count": 51
        }
      ]
    },
    {
      "cell_type": "code",
      "source": [
        "# arange genera un arreglo unidimensional con valores enteros en un rango\n",
        "\n",
        "np.arange(6,21)"
      ],
      "metadata": {
        "colab": {
          "base_uri": "https://localhost:8080/"
        },
        "id": "qy1Ioeck1kRX",
        "outputId": "eae44746-39c1-44a3-bec2-06dfb9d8cc43"
      },
      "execution_count": null,
      "outputs": [
        {
          "output_type": "execute_result",
          "data": {
            "text/plain": [
              "array([ 6,  7,  8,  9, 10, 11, 12, 13, 14, 15, 16, 17, 18, 19, 20])"
            ]
          },
          "metadata": {},
          "execution_count": 52
        }
      ]
    },
    {
      "cell_type": "code",
      "source": [
        "#(limite inferior, limite superior, salto)\n",
        "np.arange(-30, 10, 4) "
      ],
      "metadata": {
        "colab": {
          "base_uri": "https://localhost:8080/"
        },
        "id": "lQPJbtZ410KJ",
        "outputId": "14241c2b-ed9c-41c2-bd87-16de5d736833"
      },
      "execution_count": null,
      "outputs": [
        {
          "output_type": "execute_result",
          "data": {
            "text/plain": [
              "array([-30, -26, -22, -18, -14, -10,  -6,  -2,   2,   6])"
            ]
          },
          "metadata": {},
          "execution_count": 54
        }
      ]
    },
    {
      "cell_type": "code",
      "source": [
        "# linspace genera un arreglo unidimensional con una secuencia lineal de valores dentro de un rango\n",
        "\n",
        "np.linspace(0, 8)"
      ],
      "metadata": {
        "colab": {
          "base_uri": "https://localhost:8080/"
        },
        "id": "BYWZKZS22bXO",
        "outputId": "023c4cb3-b85b-4e52-fa91-797fa2d9bdb5"
      },
      "execution_count": null,
      "outputs": [
        {
          "output_type": "execute_result",
          "data": {
            "text/plain": [
              "array([0.        , 0.16326531, 0.32653061, 0.48979592, 0.65306122,\n",
              "       0.81632653, 0.97959184, 1.14285714, 1.30612245, 1.46938776,\n",
              "       1.63265306, 1.79591837, 1.95918367, 2.12244898, 2.28571429,\n",
              "       2.44897959, 2.6122449 , 2.7755102 , 2.93877551, 3.10204082,\n",
              "       3.26530612, 3.42857143, 3.59183673, 3.75510204, 3.91836735,\n",
              "       4.08163265, 4.24489796, 4.40816327, 4.57142857, 4.73469388,\n",
              "       4.89795918, 5.06122449, 5.2244898 , 5.3877551 , 5.55102041,\n",
              "       5.71428571, 5.87755102, 6.04081633, 6.20408163, 6.36734694,\n",
              "       6.53061224, 6.69387755, 6.85714286, 7.02040816, 7.18367347,\n",
              "       7.34693878, 7.51020408, 7.67346939, 7.83673469, 8.        ])"
            ]
          },
          "metadata": {},
          "execution_count": 55
        }
      ]
    },
    {
      "cell_type": "code",
      "source": [
        "np.linspace(0, 8, num=100)"
      ],
      "metadata": {
        "colab": {
          "base_uri": "https://localhost:8080/"
        },
        "id": "CE_V-rQr2ruN",
        "outputId": "b65d47d2-20a8-465f-f782-696204c478dc"
      },
      "execution_count": null,
      "outputs": [
        {
          "output_type": "execute_result",
          "data": {
            "text/plain": [
              "array([0.        , 0.08080808, 0.16161616, 0.24242424, 0.32323232,\n",
              "       0.4040404 , 0.48484848, 0.56565657, 0.64646465, 0.72727273,\n",
              "       0.80808081, 0.88888889, 0.96969697, 1.05050505, 1.13131313,\n",
              "       1.21212121, 1.29292929, 1.37373737, 1.45454545, 1.53535354,\n",
              "       1.61616162, 1.6969697 , 1.77777778, 1.85858586, 1.93939394,\n",
              "       2.02020202, 2.1010101 , 2.18181818, 2.26262626, 2.34343434,\n",
              "       2.42424242, 2.50505051, 2.58585859, 2.66666667, 2.74747475,\n",
              "       2.82828283, 2.90909091, 2.98989899, 3.07070707, 3.15151515,\n",
              "       3.23232323, 3.31313131, 3.39393939, 3.47474747, 3.55555556,\n",
              "       3.63636364, 3.71717172, 3.7979798 , 3.87878788, 3.95959596,\n",
              "       4.04040404, 4.12121212, 4.2020202 , 4.28282828, 4.36363636,\n",
              "       4.44444444, 4.52525253, 4.60606061, 4.68686869, 4.76767677,\n",
              "       4.84848485, 4.92929293, 5.01010101, 5.09090909, 5.17171717,\n",
              "       5.25252525, 5.33333333, 5.41414141, 5.49494949, 5.57575758,\n",
              "       5.65656566, 5.73737374, 5.81818182, 5.8989899 , 5.97979798,\n",
              "       6.06060606, 6.14141414, 6.22222222, 6.3030303 , 6.38383838,\n",
              "       6.46464646, 6.54545455, 6.62626263, 6.70707071, 6.78787879,\n",
              "       6.86868687, 6.94949495, 7.03030303, 7.11111111, 7.19191919,\n",
              "       7.27272727, 7.35353535, 7.43434343, 7.51515152, 7.5959596 ,\n",
              "       7.67676768, 7.75757576, 7.83838384, 7.91919192, 8.        ])"
            ]
          },
          "metadata": {},
          "execution_count": 56
        }
      ]
    },
    {
      "cell_type": "code",
      "source": [
        "#Ecribir en un archivo txt\n",
        "arreglo = np.linspace(0, 8, num=100)\n",
        "\n",
        "np.savetxt('arreglo.txt', arreglo)"
      ],
      "metadata": {
        "id": "oB4zOoW_25Ir"
      },
      "execution_count": null,
      "outputs": []
    },
    {
      "cell_type": "code",
      "source": [
        "#Ecribir en un archivo binario\n",
        "np.save('arreglo', arreglo)"
      ],
      "metadata": {
        "id": "0me3bwTy31IZ"
      },
      "execution_count": null,
      "outputs": []
    },
    {
      "cell_type": "code",
      "source": [
        "#Leer archivo\n",
        "arreglo2 = np.loadtxt('arreglo.txt')\n",
        "arreglo2"
      ],
      "metadata": {
        "colab": {
          "base_uri": "https://localhost:8080/"
        },
        "id": "N53VkcIO4P-3",
        "outputId": "e8d7af2f-ebdf-471d-ad9e-ab0694c913a9"
      },
      "execution_count": null,
      "outputs": [
        {
          "output_type": "execute_result",
          "data": {
            "text/plain": [
              "array([0.        , 0.08080808, 0.16161616, 0.24242424, 0.32323232,\n",
              "       0.4040404 , 0.48484848, 0.56565657, 0.64646465, 0.72727273,\n",
              "       0.80808081, 0.88888889, 0.96969697, 1.05050505, 1.13131313,\n",
              "       1.21212121, 1.29292929, 1.37373737, 1.45454545, 1.53535354,\n",
              "       1.61616162, 1.6969697 , 1.77777778, 1.85858586, 1.93939394,\n",
              "       2.02020202, 2.1010101 , 2.18181818, 2.26262626, 2.34343434,\n",
              "       2.42424242, 2.50505051, 2.58585859, 2.66666667, 2.74747475,\n",
              "       2.82828283, 2.90909091, 2.98989899, 3.07070707, 3.15151515,\n",
              "       3.23232323, 3.31313131, 3.39393939, 3.47474747, 3.55555556,\n",
              "       3.63636364, 3.71717172, 3.7979798 , 3.87878788, 3.95959596,\n",
              "       4.04040404, 4.12121212, 4.2020202 , 4.28282828, 4.36363636,\n",
              "       4.44444444, 4.52525253, 4.60606061, 4.68686869, 4.76767677,\n",
              "       4.84848485, 4.92929293, 5.01010101, 5.09090909, 5.17171717,\n",
              "       5.25252525, 5.33333333, 5.41414141, 5.49494949, 5.57575758,\n",
              "       5.65656566, 5.73737374, 5.81818182, 5.8989899 , 5.97979798,\n",
              "       6.06060606, 6.14141414, 6.22222222, 6.3030303 , 6.38383838,\n",
              "       6.46464646, 6.54545455, 6.62626263, 6.70707071, 6.78787879,\n",
              "       6.86868687, 6.94949495, 7.03030303, 7.11111111, 7.19191919,\n",
              "       7.27272727, 7.35353535, 7.43434343, 7.51515152, 7.5959596 ,\n",
              "       7.67676768, 7.75757576, 7.83838384, 7.91919192, 8.        ])"
            ]
          },
          "metadata": {},
          "execution_count": 60
        }
      ]
    },
    {
      "cell_type": "code",
      "source": [
        "#Listar el contenido de un directorio\n",
        "\n",
        "%ls"
      ],
      "metadata": {
        "colab": {
          "base_uri": "https://localhost:8080/"
        },
        "id": "5NJ4KkSb4jah",
        "outputId": "5afe38c8-bb48-4177-f334-4df8c5f4cc9b"
      },
      "execution_count": null,
      "outputs": [
        {
          "output_type": "stream",
          "name": "stdout",
          "text": [
            "arreglo.npy  arreglo.txt  \u001b[0m\u001b[01;34msample_data\u001b[0m/\n"
          ]
        }
      ]
    },
    {
      "cell_type": "code",
      "source": [
        "#Ver el contenido de un archivo\n",
        "\n",
        "%cat arreglo.txt"
      ],
      "metadata": {
        "colab": {
          "base_uri": "https://localhost:8080/"
        },
        "id": "XtFRi_Gd47Al",
        "outputId": "e2e7c35b-a6aa-47ba-8f27-e434aefe84df"
      },
      "execution_count": null,
      "outputs": [
        {
          "output_type": "stream",
          "name": "stdout",
          "text": [
            "0.000000000000000000e+00\n",
            "8.080808080808081495e-02\n",
            "1.616161616161616299e-01\n",
            "2.424242424242424310e-01\n",
            "3.232323232323232598e-01\n",
            "4.040404040404040886e-01\n",
            "4.848484848484848619e-01\n",
            "5.656565656565657463e-01\n",
            "6.464646464646465196e-01\n",
            "7.272727272727272929e-01\n",
            "8.080808080808081773e-01\n",
            "8.888888888888889506e-01\n",
            "9.696969696969697239e-01\n",
            "1.050505050505050608e+00\n",
            "1.131313131313131493e+00\n",
            "1.212121212121212155e+00\n",
            "1.292929292929293039e+00\n",
            "1.373737373737373924e+00\n",
            "1.454545454545454586e+00\n",
            "1.535353535353535470e+00\n",
            "1.616161616161616355e+00\n",
            "1.696969696969697017e+00\n",
            "1.777777777777777901e+00\n",
            "1.858585858585858785e+00\n",
            "1.939393939393939448e+00\n",
            "2.020202020202020332e+00\n",
            "2.101010101010101216e+00\n",
            "2.181818181818182101e+00\n",
            "2.262626262626262985e+00\n",
            "2.343434343434343425e+00\n",
            "2.424242424242424310e+00\n",
            "2.505050505050505194e+00\n",
            "2.585858585858586078e+00\n",
            "2.666666666666666963e+00\n",
            "2.747474747474747847e+00\n",
            "2.828282828282828731e+00\n",
            "2.909090909090909172e+00\n",
            "2.989898989898990056e+00\n",
            "3.070707070707070940e+00\n",
            "3.151515151515151825e+00\n",
            "3.232323232323232709e+00\n",
            "3.313131313131313593e+00\n",
            "3.393939393939394034e+00\n",
            "3.474747474747474918e+00\n",
            "3.555555555555555802e+00\n",
            "3.636363636363636687e+00\n",
            "3.717171717171717571e+00\n",
            "3.797979797979798455e+00\n",
            "3.878787878787878896e+00\n",
            "3.959595959595959780e+00\n",
            "4.040404040404040664e+00\n",
            "4.121212121212121993e+00\n",
            "4.202020202020202433e+00\n",
            "4.282828282828282873e+00\n",
            "4.363636363636364202e+00\n",
            "4.444444444444444642e+00\n",
            "4.525252525252525970e+00\n",
            "4.606060606060606410e+00\n",
            "4.686868686868686851e+00\n",
            "4.767676767676768179e+00\n",
            "4.848484848484848619e+00\n",
            "4.929292929292929948e+00\n",
            "5.010101010101010388e+00\n",
            "5.090909090909091717e+00\n",
            "5.171717171717172157e+00\n",
            "5.252525252525252597e+00\n",
            "5.333333333333333925e+00\n",
            "5.414141414141414366e+00\n",
            "5.494949494949495694e+00\n",
            "5.575757575757576134e+00\n",
            "5.656565656565657463e+00\n",
            "5.737373737373737903e+00\n",
            "5.818181818181818343e+00\n",
            "5.898989898989899672e+00\n",
            "5.979797979797980112e+00\n",
            "6.060606060606061440e+00\n",
            "6.141414141414141881e+00\n",
            "6.222222222222222321e+00\n",
            "6.303030303030303649e+00\n",
            "6.383838383838384090e+00\n",
            "6.464646464646465418e+00\n",
            "6.545454545454545858e+00\n",
            "6.626262626262627187e+00\n",
            "6.707070707070707627e+00\n",
            "6.787878787878788067e+00\n",
            "6.868686868686869396e+00\n",
            "6.949494949494949836e+00\n",
            "7.030303030303031164e+00\n",
            "7.111111111111111605e+00\n",
            "7.191919191919192933e+00\n",
            "7.272727272727273373e+00\n",
            "7.353535353535353813e+00\n",
            "7.434343434343435142e+00\n",
            "7.515151515151515582e+00\n",
            "7.595959595959596911e+00\n",
            "7.676767676767677351e+00\n",
            "7.757575757575757791e+00\n",
            "7.838383838383839120e+00\n",
            "7.919191919191919560e+00\n",
            "8.000000000000000000e+00\n"
          ]
        }
      ]
    },
    {
      "cell_type": "code",
      "source": [
        "#Guardar mas d eun arreglo en un solo archivo\n",
        "\n",
        "np.savez('arreglos', a1, a2, a3)"
      ],
      "metadata": {
        "id": "kbcL-VG95fK-"
      },
      "execution_count": null,
      "outputs": []
    },
    {
      "cell_type": "code",
      "source": [
        "%cat arreglos.npz"
      ],
      "metadata": {
        "colab": {
          "base_uri": "https://localhost:8080/"
        },
        "id": "aeR106fn6jLL",
        "outputId": "faa2d468-13cb-4371-db1b-86dde3aa56ad"
      },
      "execution_count": null,
      "outputs": [
        {
          "output_type": "stream",
          "name": "stdout",
          "text": [
            "PK\u0003\u0004\u0014\u0000\u0000\u0000\u0000\u0000\u0000\u0000!\u0000y�~6�\u0000\u0000\u0000�\u0000\u0000\u0000\t\u0000\u0014\u0000arr_0.npy\u0001\u0000\u0010\u0000�\u0000\u0000\u0000\u0000\u0000\u0000\u0000�\u0000\u0000\u0000\u0000\u0000\u0000\u0000�NUMPY\u0001\u0000v\u0000{'descr': '<i8', 'fortran_order': False, 'shape': (2, 2, 2), }                                                       \n",
            "\u0001\u0000\u0000\u0000\u0000\u0000\u0000\u0000\u0002\u0000\u0000\u0000\u0000\u0000\u0000\u0000\u0003\u0000\u0000\u0000\u0000\u0000\u0000\u0000\u0004\u0000\u0000\u0000\u0000\u0000\u0000\u0000\u0005\u0000\u0000\u0000\u0000\u0000\u0000\u0000\u0006\u0000\u0000\u0000\u0000\u0000\u0000\u0000\u0007\u0000\u0000\u0000\u0000\u0000\u0000\u0000\b\u0000\u0000\u0000\u0000\u0000\u0000\u0000PK\u0003\u0004\u0014\u0000\u0000\u0000\u0000\u0000\u0000\u0000!\u0000�����\u0000\u0000\u0000�\u0000\u0000\u0000\t\u0000\u0014\u0000arr_1.npy\u0001\u0000\u0010\u0000�\u0000\u0000\u0000\u0000\u0000\u0000\u0000�\u0000\u0000\u0000\u0000\u0000\u0000\u0000�NUMPY\u0001\u0000v\u0000{'descr': '<i8', 'fortran_order': False, 'shape': (2, 2, 2), }                                                       \n",
            "\n",
            "\u0000\u0000\u0000\u0000\u0000\u0000\u0000\u0014\u0000\u0000\u0000\u0000\u0000\u0000\u0000\u001e\u0000\u0000\u0000\u0000\u0000\u0000\u0000(\u0000\u0000\u0000\u0000\u0000\u0000\u00002\u0000\u0000\u0000\u0000\u0000\u0000\u0000<\u0000\u0000\u0000\u0000\u0000\u0000\u0000F\u0000\u0000\u0000\u0000\u0000\u0000\u0000P\u0000\u0000\u0000\u0000\u0000\u0000\u0000PK\u0003\u0004\u0014\u0000\u0000\u0000\u0000\u0000\u0000\u0000!\u0000b�bA�\u0000\u0000\u0000�\u0000\u0000\u0000\t\u0000\u0014\u0000arr_2.npy\u0001\u0000\u0010\u0000�\u0000\u0000\u0000\u0000\u0000\u0000\u0000�\u0000\u0000\u0000\u0000\u0000\u0000\u0000�NUMPY\u0001\u0000v\u0000{'descr': '<i8', 'fortran_order': False, 'shape': (2,), }                                                            \n",
            "d\u0000\u0000\u0000\u0000\u0000\u0000\u0000�\u0000\u0000\u0000\u0000\u0000\u0000\u0000PK\u0001\u0002\u0014\u0003\u0014\u0000\u0000\u0000\u0000\u0000\u0000\u0000!\u0000y�~6�\u0000\u0000\u0000�\u0000\u0000\u0000\t\u0000\u0000\u0000\u0000\u0000\u0000\u0000\u0000\u0000\u0000\u0000�\u0001\u0000\u0000\u0000\u0000arr_0.npyPK\u0001\u0002\u0014\u0003\u0014\u0000\u0000\u0000\u0000\u0000\u0000\u0000!\u0000�����\u0000\u0000\u0000�\u0000\u0000\u0000\t\u0000\u0000\u0000\u0000\u0000\u0000\u0000\u0000\u0000\u0000\u0000�\u0001�\u0000\u0000\u0000arr_1.npyPK\u0001\u0002\u0014\u0003\u0014\u0000\u0000\u0000\u0000\u0000\u0000\u0000!\u0000b�bA�\u0000\u0000\u0000�\u0000\u0000\u0000\t\u0000\u0000\u0000\u0000\u0000\u0000\u0000\u0000\u0000\u0000\u0000�\u0001�\u0001\u0000\u0000arr_2.npyPK\u0005\u0006\u0000\u0000\u0000\u0000\u0003\u0000\u0003\u0000�\u0000\u0000\u0000�\u0002\u0000\u0000\u0000\u0000"
          ]
        }
      ]
    },
    {
      "cell_type": "code",
      "source": [
        "#Leer varios arreglos desde un archivo\n",
        "\n",
        "cargados = np.load('arreglos.npz')\n",
        "cargados"
      ],
      "metadata": {
        "colab": {
          "base_uri": "https://localhost:8080/"
        },
        "id": "oTvLfoSd6qqa",
        "outputId": "5d933da7-8617-4e4f-98b8-d725ab8f6629"
      },
      "execution_count": null,
      "outputs": [
        {
          "output_type": "execute_result",
          "data": {
            "text/plain": [
              "<numpy.lib.npyio.NpzFile at 0x7fca7b974ed0>"
            ]
          },
          "metadata": {},
          "execution_count": 67
        }
      ]
    },
    {
      "cell_type": "code",
      "source": [
        "#Acceder a un arreglo cargado\n",
        "\n",
        "cargados['arr_0']"
      ],
      "metadata": {
        "colab": {
          "base_uri": "https://localhost:8080/"
        },
        "id": "avjRLT5G7CVi",
        "outputId": "9bade00f-41a0-4816-af35-75ea1665b461"
      },
      "execution_count": null,
      "outputs": [
        {
          "output_type": "execute_result",
          "data": {
            "text/plain": [
              "array([[[1, 2],\n",
              "        [3, 4]],\n",
              "\n",
              "       [[5, 6],\n",
              "        [7, 8]]])"
            ]
          },
          "metadata": {},
          "execution_count": 68
        }
      ]
    },
    {
      "cell_type": "code",
      "source": [
        "with cargados as arr:\n",
        "  for i in arr:\n",
        "    print(i, arr[i])"
      ],
      "metadata": {
        "colab": {
          "base_uri": "https://localhost:8080/"
        },
        "id": "A4PwbL6h7YFT",
        "outputId": "bf57c1b9-564d-47dc-f677-0d86269e695e"
      },
      "execution_count": null,
      "outputs": [
        {
          "output_type": "stream",
          "name": "stdout",
          "text": [
            "arr_0 [[[1 2]\n",
            "  [3 4]]\n",
            "\n",
            " [[5 6]\n",
            "  [7 8]]]\n",
            "arr_1 [[[10 20]\n",
            "  [30 40]]\n",
            "\n",
            " [[50 60]\n",
            "  [70 80]]]\n",
            "arr_2 [100 200]\n"
          ]
        }
      ]
    },
    {
      "cell_type": "code",
      "source": [
        "with np.load('arreglos.npz') as arr:\n",
        "  ac3 = arr['arr_2']\n",
        "ac3"
      ],
      "metadata": {
        "colab": {
          "base_uri": "https://localhost:8080/"
        },
        "id": "wbesY4LL7kpc",
        "outputId": "8b2ac598-d3ed-498b-8c3c-e8383502b15f"
      },
      "execution_count": null,
      "outputs": [
        {
          "output_type": "execute_result",
          "data": {
            "text/plain": [
              "array([100, 200])"
            ]
          },
          "metadata": {},
          "execution_count": 71
        }
      ]
    },
    {
      "cell_type": "markdown",
      "source": [
        "#Operaciones basicas con arreglos.\n"
      ],
      "metadata": {
        "id": "RsOWGn9C8cAR"
      }
    },
    {
      "cell_type": "markdown",
      "source": [
        "La siguiente tabla ejemplifica la conformación de las Equipos en una semana dada.\n",
        "\n",
        "||Equipo 1| Equipo 2|\n",
        "|:--:|:---:|:---:|\n",
        "|*Lunes*|Lilia, Antonio, Ricardo|Alonso, Jorge, Salvador|\n",
        "|*Martes*|Mariana, Julian, Ricardo|Arturo, Ramy, Esteban|\n",
        "|*Miércoles*|Arturo, Ricardo, Lucio|Jorge, Marco, Lilia|\n",
        "|*Jueves*|Alonso, Julian, Salvador|Ricardo, Jorge, Esteban|\n",
        "|*Viernes*|Lucio, Ramy, Joaquín|Ricardo, Marco, Lilia|"
      ],
      "metadata": {
        "id": "v2wS_EsN877P"
      }
    },
    {
      "cell_type": "code",
      "source": [
        "equipos = np.array([[['Lilia', 'Antonio', 'Ricardo'], ['Alonso', 'Jorge', 'Salvador']],\n",
        "                    [['Mariana', 'Julian', 'Ricardo'], ['Arturo', 'Ramy', 'Esteban']],\n",
        "                    [['Arturo', 'Ricardo', 'Lucio'], ['Jorge', 'Marco', 'Lilia']],\n",
        "                    [['Alonso', 'Julian', 'Salvador'], ['Ricardo', 'Jorge', 'Esteban']],\n",
        "                    [['Lucio', 'Ramy', 'Joaquín'], ['Ricardo', 'Marco', 'Lilia']]])"
      ],
      "metadata": {
        "id": "2PMifYYX8gZE"
      },
      "execution_count": 2,
      "outputs": []
    },
    {
      "cell_type": "code",
      "source": [
        "equipos"
      ],
      "metadata": {
        "colab": {
          "base_uri": "https://localhost:8080/"
        },
        "id": "LoWjYbUe8uyB",
        "outputId": "e4b6b6a4-63ad-44f7-84f0-b2e709b76f91"
      },
      "execution_count": null,
      "outputs": [
        {
          "output_type": "execute_result",
          "data": {
            "text/plain": [
              "array([[['Lilia', 'Antonio', 'Ricardo'],\n",
              "        ['Alonso', 'Jorge', 'Salvador']],\n",
              "\n",
              "       [['Mariana', 'Julian', 'Ricardo'],\n",
              "        ['Arturo', 'Ramy', 'Esteban']],\n",
              "\n",
              "       [['Arturo', 'Ricardo', 'Lucio'],\n",
              "        ['Jorge', 'Marco', 'Lilia']],\n",
              "\n",
              "       [['Alonso', 'Julian', 'Salvador'],\n",
              "        ['Ricardo', 'Jorge', 'Esteban']],\n",
              "\n",
              "       [['Lucio', 'Ramy', 'Joaquín'],\n",
              "        ['Ricardo', 'Marco', 'Lilia']]], dtype='<U8')"
            ]
          },
          "metadata": {},
          "execution_count": 73
        }
      ]
    },
    {
      "cell_type": "code",
      "source": [
        "print(equipos.ndim)\n",
        "print(equipos.shape)\n",
        "print(equipos.size)"
      ],
      "metadata": {
        "colab": {
          "base_uri": "https://localhost:8080/"
        },
        "id": "9JDJT-g89TJJ",
        "outputId": "5165cfba-66a9-433e-8480-4bc7761d9d07"
      },
      "execution_count": null,
      "outputs": [
        {
          "output_type": "stream",
          "name": "stdout",
          "text": [
            "3\n",
            "(5, 2, 3)\n",
            "30\n"
          ]
        }
      ]
    },
    {
      "cell_type": "code",
      "source": [
        "#Slices de arreglos\n",
        "#Se visualiza los dias martes y miercoles de la semana\n",
        "equipos[1:3]"
      ],
      "metadata": {
        "colab": {
          "base_uri": "https://localhost:8080/"
        },
        "id": "RTP4FM4Y91Ae",
        "outputId": "538b7784-bfbe-4a51-d694-36bf37c4cd8f"
      },
      "execution_count": null,
      "outputs": [
        {
          "output_type": "execute_result",
          "data": {
            "text/plain": [
              "array([[['Mariana', 'Julian', 'Ricardo'],\n",
              "        ['Arturo', 'Ramy', 'Esteban']],\n",
              "\n",
              "       [['Arturo', 'Ricardo', 'Lucio'],\n",
              "        ['Jorge', 'Marco', 'Lilia']]], dtype='<U8')"
            ]
          },
          "metadata": {},
          "execution_count": 78
        }
      ]
    },
    {
      "cell_type": "code",
      "source": [
        "equipos[1:3].shape"
      ],
      "metadata": {
        "colab": {
          "base_uri": "https://localhost:8080/"
        },
        "id": "fWQEBqm--Ocw",
        "outputId": "2205a558-adee-46f6-c3f3-a0ccadd461f1"
      },
      "execution_count": null,
      "outputs": [
        {
          "output_type": "execute_result",
          "data": {
            "text/plain": [
              "(2, 2, 3)"
            ]
          },
          "metadata": {},
          "execution_count": 79
        }
      ]
    },
    {
      "cell_type": "code",
      "source": [
        "#Ver el equipo 2 de los dias martes y miercoles de la semana \n",
        "equipos[1:3, 1]"
      ],
      "metadata": {
        "colab": {
          "base_uri": "https://localhost:8080/"
        },
        "id": "2zHS4XmO-XmE",
        "outputId": "d99a43e4-360e-421b-daaa-4af52bf50404"
      },
      "execution_count": null,
      "outputs": [
        {
          "output_type": "execute_result",
          "data": {
            "text/plain": [
              "array([['Arturo', 'Ramy', 'Esteban'],\n",
              "       ['Jorge', 'Marco', 'Lilia']], dtype='<U8')"
            ]
          },
          "metadata": {},
          "execution_count": 80
        }
      ]
    },
    {
      "cell_type": "code",
      "source": [
        "equipos[1:3, 1].shape"
      ],
      "metadata": {
        "colab": {
          "base_uri": "https://localhost:8080/"
        },
        "id": "DG873txK-qab",
        "outputId": "1fe2b495-2a48-484c-f477-39e8e8d77f54"
      },
      "execution_count": null,
      "outputs": [
        {
          "output_type": "execute_result",
          "data": {
            "text/plain": [
              "(2, 3)"
            ]
          },
          "metadata": {},
          "execution_count": 81
        }
      ]
    },
    {
      "cell_type": "code",
      "source": [
        "#Ver los 2 primeros intengrantes del equipo 2 de los dias martes y miercoles de la semana \n",
        "equipos[1:3, 1, 0:2]"
      ],
      "metadata": {
        "colab": {
          "base_uri": "https://localhost:8080/"
        },
        "id": "7_USiCH1-114",
        "outputId": "5c3015f5-668a-4b65-fdce-37200ac80ec5"
      },
      "execution_count": null,
      "outputs": [
        {
          "output_type": "execute_result",
          "data": {
            "text/plain": [
              "array([['Arturo', 'Ramy'],\n",
              "       ['Jorge', 'Marco']], dtype='<U8')"
            ]
          },
          "metadata": {},
          "execution_count": 82
        }
      ]
    },
    {
      "cell_type": "code",
      "source": [
        "equipos[1:3, 1, 0:2].shape"
      ],
      "metadata": {
        "colab": {
          "base_uri": "https://localhost:8080/"
        },
        "id": "_-mPVwsR_F4P",
        "outputId": "9497c1fb-1a45-43d9-a023-f9e814366bd5"
      },
      "execution_count": null,
      "outputs": [
        {
          "output_type": "execute_result",
          "data": {
            "text/plain": [
              "(2, 2)"
            ]
          },
          "metadata": {},
          "execution_count": 83
        }
      ]
    },
    {
      "cell_type": "code",
      "source": [
        "#Ver el tercer intengrante del equipo 1 de todos los dias\n",
        "print(equipos[:, 0, 2:3])\n",
        "\n",
        "#tambien puede ser de la siguiente manera\n",
        "print(equipos[:, 0, 2])"
      ],
      "metadata": {
        "colab": {
          "base_uri": "https://localhost:8080/"
        },
        "id": "t3I68kql_LuO",
        "outputId": "a9113025-4804-4cbf-dff8-779bf22d3667"
      },
      "execution_count": null,
      "outputs": [
        {
          "output_type": "stream",
          "name": "stdout",
          "text": [
            "[['Ricardo']\n",
            " ['Ricardo']\n",
            " ['Lucio']\n",
            " ['Salvador']\n",
            " ['Joaquín']]\n",
            "['Ricardo' 'Ricardo' 'Lucio' 'Salvador' 'Joaquín']\n"
          ]
        }
      ]
    },
    {
      "cell_type": "code",
      "source": [
        "#Localizar al integrante 3 del equipo 2 del día viernes\n",
        "equipos[4, 1, 2:3]"
      ],
      "metadata": {
        "colab": {
          "base_uri": "https://localhost:8080/"
        },
        "id": "uWeJmkEi_8oq",
        "outputId": "a8ad9cd4-7880-4912-a2a0-9695d6a4cdb6"
      },
      "execution_count": null,
      "outputs": [
        {
          "output_type": "execute_result",
          "data": {
            "text/plain": [
              "array(['Lilia'], dtype='<U8')"
            ]
          },
          "metadata": {},
          "execution_count": 93
        }
      ]
    },
    {
      "cell_type": "code",
      "source": [
        "print(type(equipos[4, 1, 2:3]))\n",
        "print(equipos[4, 1, 2:3].shape)\n",
        "print(equipos[4, 1, 2:3].size)"
      ],
      "metadata": {
        "colab": {
          "base_uri": "https://localhost:8080/"
        },
        "id": "WtTcOXl7AcvF",
        "outputId": "fea85e3f-a69b-4f85-9fb4-fd9e1ddc96d8"
      },
      "execution_count": null,
      "outputs": [
        {
          "output_type": "stream",
          "name": "stdout",
          "text": [
            "<class 'numpy.ndarray'>\n",
            "(1,)\n",
            "1\n"
          ]
        }
      ]
    },
    {
      "cell_type": "markdown",
      "source": [
        "#Remplazos\n",
        "\n",
        "|Equipo 1| Equipo 2|\n",
        ":---:|:---:|\n",
        "|Paulina, Rigo, Paul|Kenia, Miguel, Carlos|"
      ],
      "metadata": {
        "id": "G84QsEuPB-yz"
      }
    },
    {
      "cell_type": "code",
      "source": [
        "remplazos = np.array([['Paulina', 'Rigo', 'Paul'], \n",
        "               ['Kenia', 'Miguel', 'Carlos']])\n",
        "\n",
        "remplazos"
      ],
      "metadata": {
        "colab": {
          "base_uri": "https://localhost:8080/"
        },
        "id": "qJLS8o_6CNl_",
        "outputId": "8d12d8de-b6b9-440e-bc77-34ad572f04ca"
      },
      "execution_count": 4,
      "outputs": [
        {
          "output_type": "execute_result",
          "data": {
            "text/plain": [
              "array([['Paulina', 'Rigo', 'Paul'],\n",
              "       ['Kenia', 'Miguel', 'Carlos']], dtype='<U7')"
            ]
          },
          "metadata": {},
          "execution_count": 4
        }
      ]
    },
    {
      "cell_type": "code",
      "source": [
        "remplazos.shape"
      ],
      "metadata": {
        "colab": {
          "base_uri": "https://localhost:8080/"
        },
        "id": "s1aq5itTCYTx",
        "outputId": "17cbc866-9e20-4fc5-a49f-dd9ce9a35b85"
      },
      "execution_count": null,
      "outputs": [
        {
          "output_type": "execute_result",
          "data": {
            "text/plain": [
              "(2, 3)"
            ]
          },
          "metadata": {},
          "execution_count": 95
        }
      ]
    },
    {
      "cell_type": "code",
      "source": [
        "equipos[:]"
      ],
      "metadata": {
        "colab": {
          "base_uri": "https://localhost:8080/"
        },
        "id": "emD3ZNO0Cd5l",
        "outputId": "2ffb7716-c4bf-46ec-95ff-99f35c80a764"
      },
      "execution_count": null,
      "outputs": [
        {
          "output_type": "execute_result",
          "data": {
            "text/plain": [
              "array([[['Lilia', 'Antonio', 'Ricardo'],\n",
              "        ['Alonso', 'Jorge', 'Salvador']],\n",
              "\n",
              "       [['Mariana', 'Julian', 'Ricardo'],\n",
              "        ['Arturo', 'Ramy', 'Esteban']],\n",
              "\n",
              "       [['Arturo', 'Ricardo', 'Lucio'],\n",
              "        ['Jorge', 'Marco', 'Lilia']],\n",
              "\n",
              "       [['Alonso', 'Julian', 'Salvador'],\n",
              "        ['Ricardo', 'Jorge', 'Esteban']],\n",
              "\n",
              "       [['Lucio', 'Ramy', 'Joaquín'],\n",
              "        ['Ricardo', 'Marco', 'Lilia']]], dtype='<U8')"
            ]
          },
          "metadata": {},
          "execution_count": 96
        }
      ]
    },
    {
      "cell_type": "code",
      "source": [
        "equipos[4]"
      ],
      "metadata": {
        "colab": {
          "base_uri": "https://localhost:8080/"
        },
        "id": "lEkKj612Clye",
        "outputId": "0f4dcd0c-8fe7-4506-800b-9bf4251bb95c"
      },
      "execution_count": null,
      "outputs": [
        {
          "output_type": "execute_result",
          "data": {
            "text/plain": [
              "array([['Lucio', 'Ramy', 'Joaquín'],\n",
              "       ['Ricardo', 'Marco', 'Lilia']], dtype='<U8')"
            ]
          },
          "metadata": {},
          "execution_count": 97
        }
      ]
    },
    {
      "cell_type": "code",
      "source": [
        "equipos[4].shape"
      ],
      "metadata": {
        "colab": {
          "base_uri": "https://localhost:8080/"
        },
        "id": "jELCLsWuCprU",
        "outputId": "66a5b34d-3d16-40cf-d7bd-133d79019152"
      },
      "execution_count": null,
      "outputs": [
        {
          "output_type": "execute_result",
          "data": {
            "text/plain": [
              "(2, 3)"
            ]
          },
          "metadata": {},
          "execution_count": 98
        }
      ]
    },
    {
      "cell_type": "code",
      "source": [
        "#Cambiar elementos de un arreglo\n",
        "equipos[4] = remplazos\n",
        "equipos"
      ],
      "metadata": {
        "colab": {
          "base_uri": "https://localhost:8080/"
        },
        "id": "1j8VaRGRCuV2",
        "outputId": "d2a2fee3-1811-4125-bfdd-d7d719efcdb6"
      },
      "execution_count": 5,
      "outputs": [
        {
          "output_type": "execute_result",
          "data": {
            "text/plain": [
              "array([[['Lilia', 'Antonio', 'Ricardo'],\n",
              "        ['Alonso', 'Jorge', 'Salvador']],\n",
              "\n",
              "       [['Mariana', 'Julian', 'Ricardo'],\n",
              "        ['Arturo', 'Ramy', 'Esteban']],\n",
              "\n",
              "       [['Arturo', 'Ricardo', 'Lucio'],\n",
              "        ['Jorge', 'Marco', 'Lilia']],\n",
              "\n",
              "       [['Alonso', 'Julian', 'Salvador'],\n",
              "        ['Ricardo', 'Jorge', 'Esteban']],\n",
              "\n",
              "       [['Paulina', 'Rigo', 'Paul'],\n",
              "        ['Kenia', 'Miguel', 'Carlos']]], dtype='<U8')"
            ]
          },
          "metadata": {},
          "execution_count": 5
        }
      ]
    },
    {
      "cell_type": "code",
      "source": [
        "#Cambiar dos elementos de un arreglo\n",
        "equipos[2, 0, 0:2] = ['Julio', 'Ernesto']\n",
        "equipos"
      ],
      "metadata": {
        "colab": {
          "base_uri": "https://localhost:8080/"
        },
        "id": "m-EvK0oSyf9w",
        "outputId": "c46bf380-9cac-4d1a-f910-6b3719d05d7c"
      },
      "execution_count": 9,
      "outputs": [
        {
          "output_type": "execute_result",
          "data": {
            "text/plain": [
              "array([[['Lilia', 'Antonio', 'Ricardo'],\n",
              "        ['Alonso', 'Jorge', 'Salvador']],\n",
              "\n",
              "       [['Mariana', 'Julian', 'Ricardo'],\n",
              "        ['Arturo', 'Ramy', 'Esteban']],\n",
              "\n",
              "       [['Julio', 'Ernesto', 'Lucio'],\n",
              "        ['Jorge', 'Marco', 'Lilia']],\n",
              "\n",
              "       [['Alonso', 'Julian', 'Salvador'],\n",
              "        ['Ricardo', 'Jorge', 'Esteban']],\n",
              "\n",
              "       [['Paulina', 'Rigo', 'Paul'],\n",
              "        ['Kenia', 'Miguel', 'Carlos']]], dtype='<U8')"
            ]
          },
          "metadata": {},
          "execution_count": 9
        }
      ]
    },
    {
      "cell_type": "code",
      "source": [
        "#Cambiar un solo elemento\n",
        "equipos[3, 1, 2] = 'Esmeralda'\n",
        "equipos"
      ],
      "metadata": {
        "colab": {
          "base_uri": "https://localhost:8080/"
        },
        "id": "ntl204drzK-F",
        "outputId": "34844ae2-efa1-442b-adc0-ef626a9adfc5"
      },
      "execution_count": 16,
      "outputs": [
        {
          "output_type": "execute_result",
          "data": {
            "text/plain": [
              "array([[['Lilia', 'Antonio', 'Ricardo'],\n",
              "        ['Alonso', 'Jorge', 'Salvador']],\n",
              "\n",
              "       [['Mariana', 'Julian', 'Ricardo'],\n",
              "        ['Arturo', 'Ramy', 'Esteban']],\n",
              "\n",
              "       [['Julio', 'Ernesto', 'Lucio'],\n",
              "        ['Jorge', 'Marco', 'Lilia']],\n",
              "\n",
              "       [['Alonso', 'Julian', 'Salvador'],\n",
              "        ['Ricardo', 'Jorge', 'Esmerald']],\n",
              "\n",
              "       [['Paulina', 'Rigo', 'Paul'],\n",
              "        ['Kenia', 'Miguel', 'Carlos']]], dtype='<U8')"
            ]
          },
          "metadata": {},
          "execution_count": 16
        }
      ]
    },
    {
      "cell_type": "code",
      "source": [
        "#ES posible identificaar elementos de una dimension usando arreglos como indices\n",
        "idx_1 = np.array([2,0,3])\n",
        "print(idx_1)\n",
        "print(equipos[idx_1])\n",
        "print(equipos[idx_1].shape)"
      ],
      "metadata": {
        "colab": {
          "base_uri": "https://localhost:8080/"
        },
        "id": "JQ2Vk_Wuz9Z5",
        "outputId": "c24ddd9c-58c0-46ae-bb45-46715b6855fe"
      },
      "execution_count": 23,
      "outputs": [
        {
          "output_type": "stream",
          "name": "stdout",
          "text": [
            "[2 0 3]\n",
            "[[['Julio' 'Ernesto' 'Lucio']\n",
            "  ['Jorge' 'Marco' 'Lilia']]\n",
            "\n",
            " [['Lilia' 'Antonio' 'Ricardo']\n",
            "  ['Alonso' 'Jorge' 'Salvador']]\n",
            "\n",
            " [['Alonso' 'Julian' 'Salvador']\n",
            "  ['Ricardo' 'Jorge' 'Esmerald']]]\n",
            "(3, 2, 3)\n"
          ]
        }
      ]
    },
    {
      "cell_type": "code",
      "source": [
        "idx_2 = np.array([[0,3], [1,4]])\n",
        "print(idx_2)\n",
        "print(equipos[idx_2])\n",
        "print(equipos[idx_2].shape)"
      ],
      "metadata": {
        "colab": {
          "base_uri": "https://localhost:8080/"
        },
        "id": "mKrCzibd0pae",
        "outputId": "6e012f0e-777f-43c2-881a-cf4c9735d40e"
      },
      "execution_count": 22,
      "outputs": [
        {
          "output_type": "stream",
          "name": "stdout",
          "text": [
            "[[0 3]\n",
            " [1 4]]\n",
            "[[[['Lilia' 'Antonio' 'Ricardo']\n",
            "   ['Alonso' 'Jorge' 'Salvador']]\n",
            "\n",
            "  [['Alonso' 'Julian' 'Salvador']\n",
            "   ['Ricardo' 'Jorge' 'Esmerald']]]\n",
            "\n",
            "\n",
            " [[['Mariana' 'Julian' 'Ricardo']\n",
            "   ['Arturo' 'Ramy' 'Esteban']]\n",
            "\n",
            "  [['Paulina' 'Rigo' 'Paul']\n",
            "   ['Kenia' 'Miguel' 'Carlos']]]]\n",
            "(2, 2, 2, 3)\n"
          ]
        }
      ]
    },
    {
      "cell_type": "code",
      "source": [
        "#uso de multiples arreglos como indices\n",
        "print(equipos)\n",
        "print(\"\")\n",
        "idx_x = np.array([0,2])  #Lunes y Miercoles\n",
        "idx_y = np.array([0,1]) #equipo 1 y 2\n",
        "print(\"---------------------------------------\")\n",
        "print(equipos[idx_x, idx_y])"
      ],
      "metadata": {
        "colab": {
          "base_uri": "https://localhost:8080/"
        },
        "id": "NQnmLKXs1Yll",
        "outputId": "9d16ca8c-b368-4bf1-9cf7-ff871e781881"
      },
      "execution_count": 26,
      "outputs": [
        {
          "output_type": "stream",
          "name": "stdout",
          "text": [
            "[[['Lilia' 'Antonio' 'Ricardo']\n",
            "  ['Alonso' 'Jorge' 'Salvador']]\n",
            "\n",
            " [['Mariana' 'Julian' 'Ricardo']\n",
            "  ['Arturo' 'Ramy' 'Esteban']]\n",
            "\n",
            " [['Julio' 'Ernesto' 'Lucio']\n",
            "  ['Jorge' 'Marco' 'Lilia']]\n",
            "\n",
            " [['Alonso' 'Julian' 'Salvador']\n",
            "  ['Ricardo' 'Jorge' 'Esmerald']]\n",
            "\n",
            " [['Paulina' 'Rigo' 'Paul']\n",
            "  ['Kenia' 'Miguel' 'Carlos']]]\n",
            "\n",
            "---------------------------------------\n",
            "[['Lilia' 'Antonio' 'Ricardo']\n",
            " ['Jorge' 'Marco' 'Lilia']]\n"
          ]
        }
      ]
    },
    {
      "cell_type": "code",
      "source": [
        "equipos[4,0] = 'Fabian'\n",
        "equipos"
      ],
      "metadata": {
        "colab": {
          "base_uri": "https://localhost:8080/"
        },
        "id": "ASjaMunk2mvi",
        "outputId": "38a732ad-f0f9-4622-e0df-32c5f1681bcb"
      },
      "execution_count": 27,
      "outputs": [
        {
          "output_type": "execute_result",
          "data": {
            "text/plain": [
              "array([[['Lilia', 'Antonio', 'Ricardo'],\n",
              "        ['Alonso', 'Jorge', 'Salvador']],\n",
              "\n",
              "       [['Mariana', 'Julian', 'Ricardo'],\n",
              "        ['Arturo', 'Ramy', 'Esteban']],\n",
              "\n",
              "       [['Julio', 'Ernesto', 'Lucio'],\n",
              "        ['Jorge', 'Marco', 'Lilia']],\n",
              "\n",
              "       [['Alonso', 'Julian', 'Salvador'],\n",
              "        ['Ricardo', 'Jorge', 'Esmerald']],\n",
              "\n",
              "       [['Fabian', 'Fabian', 'Fabian'],\n",
              "        ['Kenia', 'Miguel', 'Carlos']]], dtype='<U8')"
            ]
          },
          "metadata": {},
          "execution_count": 27
        }
      ]
    },
    {
      "cell_type": "code",
      "source": [
        "#Un mismo arreglo para todos los elementos de la dimension \n",
        "equipos[2] = np.array(['Hugo', 'Paco', 'Luis'])\n",
        "print(equipos[2].shape)\n",
        "print(equipos)"
      ],
      "metadata": {
        "colab": {
          "base_uri": "https://localhost:8080/"
        },
        "id": "jd12t2IU21le",
        "outputId": "f669af77-a71f-4fd0-c86b-539356781dd5"
      },
      "execution_count": 30,
      "outputs": [
        {
          "output_type": "stream",
          "name": "stdout",
          "text": [
            "(2, 3)\n",
            "[[['Lilia' 'Antonio' 'Ricardo']\n",
            "  ['Alonso' 'Jorge' 'Salvador']]\n",
            "\n",
            " [['Mariana' 'Julian' 'Ricardo']\n",
            "  ['Arturo' 'Ramy' 'Esteban']]\n",
            "\n",
            " [['Hugo' 'Paco' 'Luis']\n",
            "  ['Hugo' 'Paco' 'Luis']]\n",
            "\n",
            " [['Alonso' 'Julian' 'Salvador']\n",
            "  ['Ricardo' 'Jorge' 'Esmerald']]\n",
            "\n",
            " [['Fabian' 'Fabian' 'Fabian']\n",
            "  ['Kenia' 'Miguel' 'Carlos']]]\n"
          ]
        }
      ]
    }
  ]
}