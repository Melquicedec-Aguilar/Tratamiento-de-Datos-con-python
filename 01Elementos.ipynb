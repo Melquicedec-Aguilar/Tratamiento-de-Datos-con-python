{
  "nbformat": 4,
  "nbformat_minor": 0,
  "metadata": {
    "colab": {
      "name": "01Elementos.ipynb",
      "provenance": [],
      "authorship_tag": "ABX9TyNSdv2QqkWNCbMs/ycl/VG4",
      "include_colab_link": true
    },
    "kernelspec": {
      "name": "python3",
      "display_name": "Python 3"
    },
    "language_info": {
      "name": "python"
    }
  },
  "cells": [
    {
      "cell_type": "markdown",
      "metadata": {
        "id": "view-in-github",
        "colab_type": "text"
      },
      "source": [
        "<a href=\"https://colab.research.google.com/github/Melquicedec-Aguilar/Tratamiento-de-datos-con-python/blob/main/01Elementos.ipynb\" target=\"_parent\"><img src=\"https://colab.research.google.com/assets/colab-badge.svg\" alt=\"Open In Colab\"/></a>"
      ]
    },
    {
      "cell_type": "markdown",
      "source": [
        "**Tratamiento de Datos con Python**\n",
        "\n",
        "[*FES Aragón*](https://www.aragon.unam.mx/fes-aragon/#!/inicio)\n",
        "\n",
        "# Curso\n",
        "## ICO\n",
        "### Tratamiento de datos"
      ],
      "metadata": {
        "id": "i4Ue9yTlibtq"
      }
    },
    {
      "cell_type": "code",
      "source": [
        "# Serie de Fibonacci\n",
        "a = 0\n",
        "print(a)\n",
        "b = 1\n",
        "print(b)\n",
        "\n",
        "for i in range(12):\n",
        "  r = a+b\n",
        "  a = b\n",
        "  b = r\n",
        "  print(r)"
      ],
      "metadata": {
        "id": "z5W3YFTdizgC",
        "colab": {
          "base_uri": "https://localhost:8080/"
        },
        "outputId": "91062336-0078-4378-9c1a-15ff8f1c7d67"
      },
      "execution_count": 1,
      "outputs": [
        {
          "output_type": "stream",
          "name": "stdout",
          "text": [
            "0\n",
            "1\n",
            "1\n",
            "2\n",
            "3\n",
            "5\n",
            "8\n",
            "13\n",
            "21\n",
            "34\n",
            "55\n",
            "89\n",
            "144\n",
            "233\n"
          ]
        }
      ]
    },
    {
      "cell_type": "code",
      "source": [
        "palabra = \"Datos\"\n",
        "for i in palabra:\n",
        "  print(i)\n",
        "  if i == \"t\":\n",
        "    break"
      ],
      "metadata": {
        "id": "25c5sMbvjwmv"
      },
      "execution_count": null,
      "outputs": []
    },
    {
      "cell_type": "code",
      "source": [
        "#Ciclos anidados\n",
        "for i in range(1,11):\n",
        "  print(f'Tabla del {i}:')\n",
        "  for j in range(1,11):\n",
        "    r = i * j\n",
        "    print(f'{i} * {j} = {r}')"
      ],
      "metadata": {
        "id": "MDCy7CfSkTLs"
      },
      "execution_count": null,
      "outputs": []
    },
    {
      "cell_type": "code",
      "source": [
        "Vocales = 'aeiou'\n",
        "frase = 'SupercAlifragilisticoespialidoso'\n",
        "\n",
        "no_vocales = 0\n",
        "for letra in frase.lower():\n",
        "  if letra in Vocales:\n",
        "    no_vocales += 1\n",
        "print(no_vocales)"
      ],
      "metadata": {
        "colab": {
          "base_uri": "https://localhost:8080/"
        },
        "id": "yoc1i_GzlV5g",
        "outputId": "94340109-7ffb-4a6e-aeae-10793020cb7e"
      },
      "execution_count": null,
      "outputs": [
        {
          "output_type": "stream",
          "name": "stdout",
          "text": [
            "15\n"
          ]
        }
      ]
    },
    {
      "cell_type": "code",
      "source": [
        "#Listas\n",
        "\n",
        "compra = ['Agua', 'Huevos', 'Aceite', 'Sal', 'Limon']\n",
        "detalle =['mineral natural', 'organicos', 'de oliva virgen', 'de mar', 'verde']\n",
        "\n",
        "for productos in compra:\n",
        "  print(productos)\n",
        "\n",
        "#Enumerad\n",
        "for i, producto in enumerate(compra):\n",
        "  print(i, producto)\n",
        "\n",
        "#zip\n",
        "for producto, detail in zip(compra, detalle):\n",
        "  print(producto, detalle)\n",
        "print(list(zip(compra, detalle)))"
      ],
      "metadata": {
        "id": "dp4nZngpmU-c"
      },
      "execution_count": null,
      "outputs": []
    },
    {
      "cell_type": "code",
      "source": [
        "valores = '32,45,11,87,20,48'\n",
        "lista_valores = []\n",
        "\n",
        "for valor in valores.split(','):\n",
        "  lista_valores.append(int(valor))\n",
        "print(lista_valores)"
      ],
      "metadata": {
        "id": "yPXCjUqcn2Uq"
      },
      "execution_count": null,
      "outputs": []
    },
    {
      "cell_type": "code",
      "source": [
        "lista_enteros = [int(valor) for valor in valores.split(',')]\n",
        "print(lista_enteros)"
      ],
      "metadata": {
        "id": "fewQ5hSSoi1N"
      },
      "execution_count": null,
      "outputs": []
    },
    {
      "cell_type": "code",
      "source": [
        "lista = ['pan', 'jamon', 100, 123.45]\n",
        "print(lista)\n",
        "print(lista[0])\n",
        "print(lista[-1])\n",
        "print(lista[-3])\n",
        "lista.append('jugo')\n",
        "print(lista)\n",
        "lista.count(100)"
      ],
      "metadata": {
        "id": "hEOQri8Zo7TX"
      },
      "execution_count": null,
      "outputs": []
    },
    {
      "cell_type": "code",
      "source": [
        "lista.extend([40,'cebolla',10])\n",
        "print(lista)\n",
        "lista.append(['tocino', 90])\n",
        "print(lista)\n",
        "lista.extend(range(500,505))\n",
        "print(lista)"
      ],
      "metadata": {
        "id": "9sCwi11IpoGW"
      },
      "execution_count": null,
      "outputs": []
    },
    {
      "cell_type": "code",
      "source": [
        "lista.index(500)"
      ],
      "metadata": {
        "id": "a2bTQ0ICqx-r"
      },
      "execution_count": null,
      "outputs": []
    },
    {
      "cell_type": "code",
      "source": [
        "lista.insert(3,'mostaza')\n",
        "lista"
      ],
      "metadata": {
        "id": "oY7T9bxVrGPU"
      },
      "execution_count": null,
      "outputs": []
    },
    {
      "cell_type": "code",
      "source": [
        "lista[0] = 'pan integral'\n",
        "lista"
      ],
      "metadata": {
        "id": "rTXrI66ZrRbM"
      },
      "execution_count": null,
      "outputs": []
    },
    {
      "cell_type": "code",
      "source": [
        "lista[4:10]"
      ],
      "metadata": {
        "id": "LIGGeVThsCiJ"
      },
      "execution_count": null,
      "outputs": []
    },
    {
      "cell_type": "code",
      "source": [
        "lista[:]"
      ],
      "metadata": {
        "id": "BNNZq3jlrtuT"
      },
      "execution_count": null,
      "outputs": []
    },
    {
      "cell_type": "code",
      "source": [
        "lista[::-1]"
      ],
      "metadata": {
        "id": "fTwpKzk4r_Fb"
      },
      "execution_count": null,
      "outputs": []
    },
    {
      "cell_type": "code",
      "source": [
        "#Crear un alias de lista\n",
        "lista2 = lista\n",
        "print(lista)\n",
        "print(lista2)"
      ],
      "metadata": {
        "id": "EX9VL9RpsSPS"
      },
      "execution_count": null,
      "outputs": []
    },
    {
      "cell_type": "code",
      "source": [
        "lista[1] = 'tocino'\n",
        "print(lista)\n",
        "print(lista2)"
      ],
      "metadata": {
        "id": "Wz7kcOS9sdPW"
      },
      "execution_count": null,
      "outputs": []
    },
    {
      "cell_type": "code",
      "source": [
        "lista2[3] = 'mayonesa'\n",
        "print(lista)\n",
        "print(lista2)"
      ],
      "metadata": {
        "id": "v89DSQxYsvdE"
      },
      "execution_count": null,
      "outputs": []
    },
    {
      "cell_type": "code",
      "source": [
        "#Crear una copia\n",
        "lista3 = lista[:]\n",
        "print(lista)\n",
        "print(lista3)"
      ],
      "metadata": {
        "id": "TKCEfeBLs6Ux"
      },
      "execution_count": null,
      "outputs": []
    },
    {
      "cell_type": "code",
      "source": [
        "lista[5] = 'agua'\n",
        "print(lista)\n",
        "print(lista2)\n",
        "print(lista3)"
      ],
      "metadata": {
        "id": "TD_Q6g3RtG84"
      },
      "execution_count": null,
      "outputs": []
    },
    {
      "cell_type": "code",
      "source": [
        "lista4 = lista + lista3\n",
        "lista4 "
      ],
      "metadata": {
        "id": "TqVaLzc4tf0c"
      },
      "execution_count": null,
      "outputs": []
    },
    {
      "cell_type": "code",
      "source": [
        "#Quitar valores a una lista\n",
        "#Pop muestra el ultimo elemento de la lista y lo elimina\n",
        "lista4.pop()"
      ],
      "metadata": {
        "id": "9HwN_X06xg80"
      },
      "execution_count": null,
      "outputs": []
    },
    {
      "cell_type": "code",
      "source": [
        "#borrar un elemento específico de la lista\n",
        "lista4.pop(1)"
      ],
      "metadata": {
        "id": "TadB3TZTx1pC"
      },
      "execution_count": null,
      "outputs": []
    },
    {
      "cell_type": "code",
      "source": [
        "#remueve el primer elemento del valor asignado \n",
        "lista.remove(100)"
      ],
      "metadata": {
        "id": "axYQlsLjyIbN"
      },
      "execution_count": null,
      "outputs": []
    },
    {
      "cell_type": "code",
      "source": [
        "for n in range(4,9):\n",
        "  lista4.pop(4)\n",
        "\n",
        "lista4"
      ],
      "metadata": {
        "id": "bkfaksQey46Q"
      },
      "execution_count": null,
      "outputs": []
    },
    {
      "cell_type": "code",
      "source": [
        "lista4"
      ],
      "metadata": {
        "id": "diAEU0qWyrYb"
      },
      "execution_count": null,
      "outputs": []
    },
    {
      "cell_type": "code",
      "source": [
        "lista_cursos = ['Python', 'Ciencia de datos', 'Big Data', 'Python', 'Base de datos']\n",
        "lista_cursos"
      ],
      "metadata": {
        "id": "JrCfn4vQtxF_",
        "colab": {
          "base_uri": "https://localhost:8080/"
        },
        "outputId": "53206e6b-f41b-4656-bf75-6785523b7744"
      },
      "execution_count": 11,
      "outputs": [
        {
          "output_type": "execute_result",
          "data": {
            "text/plain": [
              "['Python', 'Ciencia de datos', 'Big Data', 'Python', 'Base de datos']"
            ]
          },
          "metadata": {},
          "execution_count": 11
        }
      ]
    },
    {
      "cell_type": "code",
      "source": [
        "#Crea una lista de valores unicos (set)\n",
        "set_cursos = set(lista_cursos)\n",
        "set_cursos"
      ],
      "metadata": {
        "id": "BRDJF5KZt-wg",
        "colab": {
          "base_uri": "https://localhost:8080/"
        },
        "outputId": "9a66d1ec-f0f4-4891-8687-6a9413fbd915"
      },
      "execution_count": 14,
      "outputs": [
        {
          "output_type": "execute_result",
          "data": {
            "text/plain": [
              "{'Base de datos', 'Big Data', 'Ciencia de datos', 'Python'}"
            ]
          },
          "metadata": {},
          "execution_count": 14
        }
      ]
    },
    {
      "cell_type": "code",
      "source": [
        "set_cursos2 = set(['Python', 'Pandas', 'Mineria', 'Base de datos'])\n",
        "set_cursos2"
      ],
      "metadata": {
        "id": "MzZjTI1Cud2W",
        "colab": {
          "base_uri": "https://localhost:8080/"
        },
        "outputId": "2a70ce43-9dca-496d-a1d3-ac2a75d8eaeb"
      },
      "execution_count": 13,
      "outputs": [
        {
          "output_type": "execute_result",
          "data": {
            "text/plain": [
              "{'Base de datos', 'Mineria', 'Pandas', 'Python'}"
            ]
          },
          "metadata": {},
          "execution_count": 13
        }
      ]
    },
    {
      "cell_type": "code",
      "source": [
        "#Union\n",
        "print(set_cursos.union(set_cursos2))\n",
        "print(set_cursos | set_cursos2)"
      ],
      "metadata": {
        "id": "4MqpHeoEuwmL",
        "colab": {
          "base_uri": "https://localhost:8080/"
        },
        "outputId": "ec120b55-34f4-4e79-ec34-d6fc270f42ac"
      },
      "execution_count": 15,
      "outputs": [
        {
          "output_type": "stream",
          "name": "stdout",
          "text": [
            "{'Base de datos', 'Pandas', 'Mineria', 'Big Data', 'Ciencia de datos', 'Python'}\n",
            "{'Base de datos', 'Pandas', 'Mineria', 'Big Data', 'Ciencia de datos', 'Python'}\n"
          ]
        }
      ]
    },
    {
      "cell_type": "code",
      "source": [
        "#Es el join es decir la intersecion de los dos conjuntos\n",
        "print(set_cursos.intersection(set_cursos2))\n",
        "print(set_cursos & set_cursos2)"
      ],
      "metadata": {
        "id": "V_B6uzvNu8sI",
        "colab": {
          "base_uri": "https://localhost:8080/"
        },
        "outputId": "ee265428-3abd-4b40-f976-7efcd5787f3f"
      },
      "execution_count": 16,
      "outputs": [
        {
          "output_type": "stream",
          "name": "stdout",
          "text": [
            "{'Base de datos', 'Python'}\n",
            "{'Base de datos', 'Python'}\n"
          ]
        }
      ]
    },
    {
      "cell_type": "code",
      "source": [
        "#Outer Join\n",
        "print(set_cursos.difference(set_cursos2))\n",
        "print(set_cursos - set_cursos2)"
      ],
      "metadata": {
        "id": "3twDPPVdvIOi",
        "colab": {
          "base_uri": "https://localhost:8080/"
        },
        "outputId": "aaf52894-e95b-471a-9926-da09e14296ba"
      },
      "execution_count": 17,
      "outputs": [
        {
          "output_type": "stream",
          "name": "stdout",
          "text": [
            "{'Ciencia de datos', 'Big Data'}\n",
            "{'Ciencia de datos', 'Big Data'}\n"
          ]
        }
      ]
    },
    {
      "cell_type": "code",
      "source": [
        "diccionario = {'nombre' : 'Juan', 'edad' : 22, 'cursos' : ['Python', 'Ciencia de datos', 'Big Data']}\n",
        "diccionario"
      ],
      "metadata": {
        "colab": {
          "base_uri": "https://localhost:8080/"
        },
        "id": "bIdugqGSvo4F",
        "outputId": "2ecdbf23-eb4d-417a-915f-ee35d0afae31"
      },
      "execution_count": null,
      "outputs": [
        {
          "output_type": "execute_result",
          "data": {
            "text/plain": [
              "{'cursos': ['Python', 'Ciencia de datos', 'Big Data'],\n",
              " 'edad': 22,\n",
              " 'nombre': 'Juan'}"
            ]
          },
          "metadata": {},
          "execution_count": 50
        }
      ]
    },
    {
      "cell_type": "code",
      "source": [
        "diccionario['cursos']"
      ],
      "metadata": {
        "colab": {
          "base_uri": "https://localhost:8080/"
        },
        "id": "HAUTMKKsv7HG",
        "outputId": "32ed7c35-52f6-4aff-939f-84ab9f7fa2e0"
      },
      "execution_count": null,
      "outputs": [
        {
          "output_type": "execute_result",
          "data": {
            "text/plain": [
              "['Python', 'Ciencia de datos', 'Big Data']"
            ]
          },
          "metadata": {},
          "execution_count": 51
        }
      ]
    },
    {
      "cell_type": "code",
      "source": [
        "for c in diccionario['cursos']:\n",
        "  print(c)"
      ],
      "metadata": {
        "colab": {
          "base_uri": "https://localhost:8080/"
        },
        "id": "1Z_vI10mv_Lr",
        "outputId": "9364af6f-926d-45da-e079-f00b927cfe4d"
      },
      "execution_count": null,
      "outputs": [
        {
          "output_type": "stream",
          "name": "stdout",
          "text": [
            "Python\n",
            "Ciencia de datos\n",
            "Big Data\n"
          ]
        }
      ]
    },
    {
      "cell_type": "code",
      "source": [
        "#llaves de diccionario\n",
        "for k in diccionario.keys():\n",
        "  print(k)"
      ],
      "metadata": {
        "colab": {
          "base_uri": "https://localhost:8080/"
        },
        "id": "Jad5gwHFwK8q",
        "outputId": "5c26b845-6bb2-4109-c69d-ef05031dab51"
      },
      "execution_count": null,
      "outputs": [
        {
          "output_type": "stream",
          "name": "stdout",
          "text": [
            "nombre\n",
            "edad\n",
            "cursos\n"
          ]
        }
      ]
    },
    {
      "cell_type": "code",
      "source": [
        "#valores de diccionario\n",
        "for v in diccionario.values():\n",
        "  print(v)"
      ],
      "metadata": {
        "colab": {
          "base_uri": "https://localhost:8080/"
        },
        "id": "8yKpzGw6wR69",
        "outputId": "90933257-36c1-4423-85b8-049c2ad2e038"
      },
      "execution_count": null,
      "outputs": [
        {
          "output_type": "stream",
          "name": "stdout",
          "text": [
            "Juan\n",
            "22\n",
            "['Python', 'Ciencia de datos', 'Big Data']\n"
          ]
        }
      ]
    },
    {
      "cell_type": "code",
      "source": [
        "#Items de diccionario\n",
        "for i in diccionario.items():\n",
        "  print(i)"
      ],
      "metadata": {
        "colab": {
          "base_uri": "https://localhost:8080/"
        },
        "id": "uujpW0J6wcDI",
        "outputId": "1f15650c-6362-434d-d555-3752a388eee6"
      },
      "execution_count": null,
      "outputs": [
        {
          "output_type": "stream",
          "name": "stdout",
          "text": [
            "('nombre', 'Juan')\n",
            "('edad', 22)\n",
            "('cursos', ['Python', 'Ciencia de datos', 'Big Data'])\n"
          ]
        }
      ]
    },
    {
      "cell_type": "code",
      "source": [
        "datos = ('Tokyo:38140000;Delhi:26454000;Shanghai:24484000;'\n",
        "          'Mumbai:21357000;Sao Paulo:21297000;CDMX:24800000')\n",
        "datos"
      ],
      "metadata": {
        "colab": {
          "base_uri": "https://localhost:8080/",
          "height": 35
        },
        "id": "7Wky5_BG0MfQ",
        "outputId": "d6140ca4-24b5-44eb-96fa-643ab24d4b7b"
      },
      "execution_count": null,
      "outputs": [
        {
          "output_type": "execute_result",
          "data": {
            "text/plain": [
              "'Tokyo:38140000;Delhi:26454000;Shanghai:24484000;Mumbai:21357000;Sao Paulo:21297000;CDMX:24800000'"
            ],
            "application/vnd.google.colaboratory.intrinsic+json": {
              "type": "string"
            }
          },
          "metadata": {},
          "execution_count": 70
        }
      ]
    },
    {
      "cell_type": "code",
      "source": [
        "ciudades = {}\n",
        "for r in datos.split(';'):\n",
        "  ciudad, poblacion = r.split(':')\n",
        "  ciudades[ciudad] = int(poblacion)\n",
        "\n",
        "ciudades"
      ],
      "metadata": {
        "colab": {
          "base_uri": "https://localhost:8080/"
        },
        "id": "GLx0_rxP09J0",
        "outputId": "462c4305-9926-4387-aea7-2872e881c3ea"
      },
      "execution_count": null,
      "outputs": [
        {
          "output_type": "execute_result",
          "data": {
            "text/plain": [
              "{'CDMX': 24800000,\n",
              " 'Delhi': 26454000,\n",
              " 'Mumbai': 21357000,\n",
              " 'Sao Paulo': 21297000,\n",
              " 'Shanghai': 24484000,\n",
              " 'Tokyo': 38140000}"
            ]
          },
          "metadata": {},
          "execution_count": 71
        }
      ]
    }
  ]
}