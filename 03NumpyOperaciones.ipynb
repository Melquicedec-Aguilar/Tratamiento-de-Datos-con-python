{
  "nbformat": 4,
  "nbformat_minor": 0,
  "metadata": {
    "colab": {
      "name": "03NumpyOperaciones.ipynb",
      "provenance": [],
      "collapsed_sections": [],
      "authorship_tag": "ABX9TyOwc2hWKHn7j26etThT0tah",
      "include_colab_link": true
    },
    "kernelspec": {
      "name": "python3",
      "display_name": "Python 3"
    },
    "language_info": {
      "name": "python"
    }
  },
  "cells": [
    {
      "cell_type": "markdown",
      "metadata": {
        "id": "view-in-github",
        "colab_type": "text"
      },
      "source": [
        "<a href=\"https://colab.research.google.com/github/Melquicedec-Aguilar/Tratamiento-de-datos-con-python/blob/main/03NumpyOperaciones.ipynb\" target=\"_parent\"><img src=\"https://colab.research.google.com/assets/colab-badge.svg\" alt=\"Open In Colab\"/></a>"
      ]
    },
    {
      "cell_type": "code",
      "execution_count": 1,
      "metadata": {
        "id": "H_ovaKioxPA2"
      },
      "outputs": [],
      "source": [
        "#Importar el paquete numpy\n",
        "import numpy as np"
      ]
    },
    {
      "cell_type": "code",
      "source": [
        "m1= np.array([[1,2,3], \n",
        "             [10,11,12],\n",
        "             [-5,-8,-14]])\n",
        "print(m1)\n",
        "print(m1.shape)"
      ],
      "metadata": {
        "colab": {
          "base_uri": "https://localhost:8080/"
        },
        "id": "MkKVU0jh30o7",
        "outputId": "6c3f3cb5-c8f7-4101-b79c-f18da9c4c496"
      },
      "execution_count": 4,
      "outputs": [
        {
          "output_type": "stream",
          "name": "stdout",
          "text": [
            "[[  1   2   3]\n",
            " [ 10  11  12]\n",
            " [ -5  -8 -14]]\n",
            "(3, 3)\n"
          ]
        }
      ]
    },
    {
      "cell_type": "code",
      "source": [
        "#Las operaciones aritmeticas se aplican a todos los elementos de cada matriz\n",
        "\n",
        "m1 * 200"
      ],
      "metadata": {
        "colab": {
          "base_uri": "https://localhost:8080/"
        },
        "id": "z6i-mhsa4Ox9",
        "outputId": "f5c86a7b-7155-4a52-d743-2eb88579a89d"
      },
      "execution_count": 3,
      "outputs": [
        {
          "output_type": "execute_result",
          "data": {
            "text/plain": [
              "array([[  200,   400,   600],\n",
              "       [ 2000,  2200,  2400],\n",
              "       [-1000, -1600, -2800]])"
            ]
          },
          "metadata": {},
          "execution_count": 3
        }
      ]
    },
    {
      "cell_type": "code",
      "source": [
        "#Aplicar la operacion a un elemento \n",
        "\n",
        "m1[1] + 15"
      ],
      "metadata": {
        "colab": {
          "base_uri": "https://localhost:8080/"
        },
        "id": "eexVoe3C4gaZ",
        "outputId": "ac6041bc-a0ff-4905-d4f7-f7aeb9dde594"
      },
      "execution_count": 5,
      "outputs": [
        {
          "output_type": "execute_result",
          "data": {
            "text/plain": [
              "array([25, 26, 27])"
            ]
          },
          "metadata": {},
          "execution_count": 5
        }
      ]
    },
    {
      "cell_type": "code",
      "source": [
        "m1 / 5.45"
      ],
      "metadata": {
        "colab": {
          "base_uri": "https://localhost:8080/"
        },
        "id": "b_Mnmr7e4uCt",
        "outputId": "2a2e3bac-a432-4148-dc27-e586bba6d958"
      },
      "execution_count": 7,
      "outputs": [
        {
          "output_type": "execute_result",
          "data": {
            "text/plain": [
              "array([[ 0.18348624,  0.36697248,  0.55045872],\n",
              "       [ 1.83486239,  2.01834862,  2.20183486],\n",
              "       [-0.91743119, -1.46788991, -2.56880734]])"
            ]
          },
          "metadata": {},
          "execution_count": 7
        }
      ]
    },
    {
      "cell_type": "code",
      "source": [
        "#Usar operadores logicos por broadcasting\n",
        "m1 > 1"
      ],
      "metadata": {
        "colab": {
          "base_uri": "https://localhost:8080/"
        },
        "id": "O2bRczrU41lO",
        "outputId": "4abca47f-deab-4bfc-912e-ceb8d4f5d259"
      },
      "execution_count": 8,
      "outputs": [
        {
          "output_type": "execute_result",
          "data": {
            "text/plain": [
              "array([[False,  True,  True],\n",
              "       [ True,  True,  True],\n",
              "       [False, False, False]])"
            ]
          },
          "metadata": {},
          "execution_count": 8
        }
      ]
    },
    {
      "cell_type": "code",
      "source": [
        "m2 = np.array([1,2,3])\n",
        "m3= np.array([[2], [4], [6]])\n",
        "\n",
        "print(m2)\n",
        "print(m2.shape)\n",
        "print(m3)\n",
        "print(m3.shape)\n",
        "print(m1)\n",
        "print(m1.shape)"
      ],
      "metadata": {
        "colab": {
          "base_uri": "https://localhost:8080/"
        },
        "id": "PcA6Qohk5F_U",
        "outputId": "943d7a8e-d1ff-41ee-dc4e-0079bf5b89b6"
      },
      "execution_count": 10,
      "outputs": [
        {
          "output_type": "stream",
          "name": "stdout",
          "text": [
            "[1 2 3]\n",
            "(3,)\n",
            "[[2]\n",
            " [4]\n",
            " [6]]\n",
            "(3, 1)\n",
            "[[  1   2   3]\n",
            " [ 10  11  12]\n",
            " [ -5  -8 -14]]\n",
            "(3, 3)\n"
          ]
        }
      ]
    },
    {
      "cell_type": "code",
      "source": [
        "m1 * m2"
      ],
      "metadata": {
        "colab": {
          "base_uri": "https://localhost:8080/"
        },
        "id": "VQG_uphi5ugR",
        "outputId": "5f8fe426-36da-4cc5-a6c7-fbce414c3ad1"
      },
      "execution_count": 11,
      "outputs": [
        {
          "output_type": "execute_result",
          "data": {
            "text/plain": [
              "array([[  1,   4,   9],\n",
              "       [ 10,  22,  36],\n",
              "       [ -5, -16, -42]])"
            ]
          },
          "metadata": {},
          "execution_count": 11
        }
      ]
    },
    {
      "cell_type": "code",
      "source": [
        "m1 /m3"
      ],
      "metadata": {
        "colab": {
          "base_uri": "https://localhost:8080/"
        },
        "id": "HS77reKW5ygA",
        "outputId": "3d73cdc0-c527-4c8b-b04e-ddb33fdd285a"
      },
      "execution_count": 12,
      "outputs": [
        {
          "output_type": "execute_result",
          "data": {
            "text/plain": [
              "array([[ 0.5       ,  1.        ,  1.5       ],\n",
              "       [ 2.5       ,  2.75      ,  3.        ],\n",
              "       [-0.83333333, -1.33333333, -2.33333333]])"
            ]
          },
          "metadata": {},
          "execution_count": 12
        }
      ]
    },
    {
      "cell_type": "code",
      "source": [
        "m4 = m1 + 20\n",
        "m4"
      ],
      "metadata": {
        "colab": {
          "base_uri": "https://localhost:8080/"
        },
        "id": "e3ioYkEF6AQi",
        "outputId": "ee969f62-318f-4b10-a6da-0c1c1b2276a3"
      },
      "execution_count": 13,
      "outputs": [
        {
          "output_type": "execute_result",
          "data": {
            "text/plain": [
              "array([[21, 22, 23],\n",
              "       [30, 31, 32],\n",
              "       [15, 12,  6]])"
            ]
          },
          "metadata": {},
          "execution_count": 13
        }
      ]
    },
    {
      "cell_type": "code",
      "source": [
        "m1 * m4"
      ],
      "metadata": {
        "colab": {
          "base_uri": "https://localhost:8080/"
        },
        "id": "qer8sPgh6HGE",
        "outputId": "31f3ffc4-2c9a-47e2-f0fb-d3adc9a81bae"
      },
      "execution_count": 14,
      "outputs": [
        {
          "output_type": "execute_result",
          "data": {
            "text/plain": [
              "array([[ 21,  44,  69],\n",
              "       [300, 341, 384],\n",
              "       [-75, -96, -84]])"
            ]
          },
          "metadata": {},
          "execution_count": 14
        }
      ]
    },
    {
      "cell_type": "code",
      "source": [
        "#Generar arreglos con valores aleatorios\n",
        "np.random.rand(2,2,2)"
      ],
      "metadata": {
        "colab": {
          "base_uri": "https://localhost:8080/"
        },
        "id": "rgcleWot6ctW",
        "outputId": "c832ed4f-8f59-4e3a-ba71-b0e065d163be"
      },
      "execution_count": 18,
      "outputs": [
        {
          "output_type": "execute_result",
          "data": {
            "text/plain": [
              "array([[[0.65383263, 0.80200672],\n",
              "        [0.6414001 , 0.47079533]],\n",
              "\n",
              "       [[0.07693916, 0.31553211],\n",
              "        [0.856149  , 0.29274797]]])"
            ]
          },
          "metadata": {},
          "execution_count": 18
        }
      ]
    },
    {
      "cell_type": "code",
      "source": [
        "#radint genera valores enteros aleatorios entre un rango\n",
        "np.random.randint(1,4,(2,2,2)) "
      ],
      "metadata": {
        "colab": {
          "base_uri": "https://localhost:8080/"
        },
        "id": "OO_Pa3sL63kg",
        "outputId": "ab5ed3ce-12eb-4532-aa1b-220ab0ce8b24"
      },
      "execution_count": 27,
      "outputs": [
        {
          "output_type": "execute_result",
          "data": {
            "text/plain": [
              "array([[[1, 1],\n",
              "        [1, 1]],\n",
              "\n",
              "       [[2, 1],\n",
              "        [1, 2]]])"
            ]
          },
          "metadata": {},
          "execution_count": 27
        }
      ]
    },
    {
      "cell_type": "code",
      "source": [
        "np.random.randint(0,255,(3,2,4)) "
      ],
      "metadata": {
        "colab": {
          "base_uri": "https://localhost:8080/"
        },
        "id": "f1nV_R_U7QTv",
        "outputId": "a3e2e1e6-4e33-41f2-810d-9ae90ca74a77"
      },
      "execution_count": 20,
      "outputs": [
        {
          "output_type": "execute_result",
          "data": {
            "text/plain": [
              "array([[[243, 215,  28, 164],\n",
              "        [  8, 237, 174, 133]],\n",
              "\n",
              "       [[ 40, 141, 193,  38],\n",
              "        [210, 158,  43, 225]],\n",
              "\n",
              "       [[169, 240, 141, 200],\n",
              "        [ 38,  56, 124, 251]]])"
            ]
          },
          "metadata": {},
          "execution_count": 20
        }
      ]
    },
    {
      "cell_type": "code",
      "source": [
        "numeros = np.array([[2.43, -3, 48.9999, -5.61],\n",
        "                   [np.inf, -np.inf, np.inf, np.inf],\n",
        "                   [np.nan, 17.78, 12, 22]])\n",
        "\n",
        "numeros"
      ],
      "metadata": {
        "colab": {
          "base_uri": "https://localhost:8080/"
        },
        "id": "LH8_cUqL7ec6",
        "outputId": "8bb3d401-ee65-4488-8eae-64fa94e4c3ba"
      },
      "execution_count": 29,
      "outputs": [
        {
          "output_type": "execute_result",
          "data": {
            "text/plain": [
              "array([[ 2.43  , -3.    , 48.9999, -5.61  ],\n",
              "       [    inf,    -inf,     inf,     inf],\n",
              "       [    nan, 17.78  , 12.    , 22.    ]])"
            ]
          },
          "metadata": {},
          "execution_count": 29
        }
      ]
    },
    {
      "cell_type": "markdown",
      "source": [
        "## Funciones de valor\n",
        "* ```np.abs()```\n",
        "* ```np.around()```\n",
        "* ```np.ceil()```\n",
        "* ```np.exp()```\n",
        "* ```np.exp2()```\n",
        "* ```np.fabs()```\n",
        "* ```np.fix()```\n",
        "* ```np.floor()```\n",
        "* ```np.log()```\n",
        "* ```np.log10()```\n",
        "* ```np.log1p()```\n",
        "* ```np.log2()```\n",
        "* ```np.logaddexp()```\n",
        "* ```np.logaddexp2()```\n",
        "* ```np.round()```"
      ],
      "metadata": {
        "id": "u3bH9qWB_lD6"
      }
    },
    {
      "cell_type": "code",
      "source": [
        "#Funciones de valor\n",
        "print(np.abs(numeros))\n",
        "print(np.floor(numeros))\n",
        "print(np.ceil(numeros))\n",
        "print(np.round(numeros))"
      ],
      "metadata": {
        "colab": {
          "base_uri": "https://localhost:8080/"
        },
        "id": "sH0W5V_B8qaq",
        "outputId": "5fe382f2-b8f1-4c86-9566-16cb6d330755"
      },
      "execution_count": 30,
      "outputs": [
        {
          "output_type": "stream",
          "name": "stdout",
          "text": [
            "[[ 2.43    3.     48.9999  5.61  ]\n",
            " [    inf     inf     inf     inf]\n",
            " [    nan 17.78   12.     22.    ]]\n",
            "[[  2.  -3.  48.  -6.]\n",
            " [ inf -inf  inf  inf]\n",
            " [ nan  17.  12.  22.]]\n",
            "[[  3.  -3.  49.  -5.]\n",
            " [ inf -inf  inf  inf]\n",
            " [ nan  18.  12.  22.]]\n",
            "[[  2.  -3.  49.  -6.]\n",
            " [ inf -inf  inf  inf]\n",
            " [ nan  18.  12.  22.]]\n"
          ]
        }
      ]
    },
    {
      "cell_type": "code",
      "source": [
        "#Funciones de evaluacion de arreglos\n",
        "print(np.isfinite(numeros))\n",
        "print(np.isnan(numeros))\n",
        "print(np.isreal(numeros))\n",
        "print(np.isscalar(numeros))"
      ],
      "metadata": {
        "colab": {
          "base_uri": "https://localhost:8080/"
        },
        "id": "Ji8WBpw59IGu",
        "outputId": "b6ee09b6-ec6a-4ad6-9789-5bf226059ce5"
      },
      "execution_count": 32,
      "outputs": [
        {
          "output_type": "stream",
          "name": "stdout",
          "text": [
            "[[ True  True  True  True]\n",
            " [False False False False]\n",
            " [False  True  True  True]]\n",
            "[[False False False False]\n",
            " [False False False False]\n",
            " [ True False False False]]\n",
            "[[ True  True  True  True]\n",
            " [ True  True  True  True]\n",
            " [ True  True  True  True]]\n",
            "False\n"
          ]
        }
      ]
    },
    {
      "cell_type": "markdown",
      "source": [
        "## Funciones estadísticas.\n",
        "\n",
        "* ```np.amax()```\n",
        "* ```np amin()```\n",
        "* ```np.argmax()```\n",
        "* ```np.argmin()```\n",
        "* ```np.average()```\n",
        "* ```np.correlate()```\n",
        "* ```np.corrcoef()```\n",
        "* ```np.count_nonzero()```\n",
        "* ```np.cov()```\n",
        "* ```np.cumprod()```\n",
        "* ```np.cumsum()```\n",
        "* ```np.histogram()```\n",
        "* ```np.histogram2d()```\n",
        "* ```np.histogram_bin_edges()```\n",
        "* ```np.histogramdd()```\n",
        "* ```np.max()```\n",
        "* ```np.mean()```\n",
        "* ```np.median()```\n",
        "* ```np.min()```\n",
        "* ```np.nanargmax()```\n",
        "* ```np.nanargmin()```\n",
        "* ```np.nancumprod()```\n",
        "* ```np.nancumsum()```\n",
        "* ```np.nanmax()```\n",
        "* ```np.nanmean()```\n",
        "* ```np.nanmedian()```\n",
        "* ```np.nanmin()```\n",
        "* ```np.nanpercentile()```\n",
        "* ```np.nanquantile()```\n",
        "* ```np.nanstd()```\n",
        "* ```np.nansum()```\n",
        "* ```np.nanvar()```\n",
        "* ```np.percentile()```\n",
        "* ```np.quantile()```\n",
        "* ```np.std()```\n",
        "* ```np.var()```"
      ],
      "metadata": {
        "id": "MXCzy4XL-Q-E"
      }
    },
    {
      "cell_type": "code",
      "source": [
        "numeros = np.random.randint(0, 256, (3,2,4))\n",
        "numeros"
      ],
      "metadata": {
        "colab": {
          "base_uri": "https://localhost:8080/"
        },
        "id": "ius0mWeZ-Zod",
        "outputId": "614f1852-cd24-4ab4-f55f-7fe43b7b2a08"
      },
      "execution_count": 33,
      "outputs": [
        {
          "output_type": "execute_result",
          "data": {
            "text/plain": [
              "array([[[191, 114, 111,  94],\n",
              "        [  8, 119, 146,  70]],\n",
              "\n",
              "       [[ 30, 176, 156, 139],\n",
              "        [ 60, 115, 196,  71]],\n",
              "\n",
              "       [[ 56,  83, 112,  90],\n",
              "        [119, 215, 112,   8]]])"
            ]
          },
          "metadata": {},
          "execution_count": 33
        }
      ]
    },
    {
      "cell_type": "code",
      "source": [
        "print(np.max(numeros))\n",
        "print(np.mean(numeros))\n",
        "print(np.min(numeros))\n",
        "print(np.median(numeros))"
      ],
      "metadata": {
        "colab": {
          "base_uri": "https://localhost:8080/"
        },
        "id": "JEpnkpO7-7wa",
        "outputId": "447d67de-6745-41b4-bda0-911daa12f58f"
      },
      "execution_count": 34,
      "outputs": [
        {
          "output_type": "stream",
          "name": "stdout",
          "text": [
            "215\n",
            "107.95833333333333\n",
            "8\n",
            "112.0\n"
          ]
        }
      ]
    },
    {
      "cell_type": "code",
      "source": [
        "print(np.nanmax(numeros))\n",
        "print(np.nanmin(numeros))\n",
        "print(np.nanmean(numeros))\n",
        "print(np.nanmedian(numeros))"
      ],
      "metadata": {
        "colab": {
          "base_uri": "https://localhost:8080/"
        },
        "id": "F5rVp7Tg_NVm",
        "outputId": "3fa74f09-d69d-463b-bf64-8a7195fd77e1"
      },
      "execution_count": 35,
      "outputs": [
        {
          "output_type": "stream",
          "name": "stdout",
          "text": [
            "215\n",
            "8\n",
            "107.95833333333333\n",
            "112.0\n"
          ]
        }
      ]
    },
    {
      "cell_type": "code",
      "source": [
        "np.histogram(numeros)"
      ],
      "metadata": {
        "colab": {
          "base_uri": "https://localhost:8080/"
        },
        "id": "qYVixUxv_a3L",
        "outputId": "0e8e76a2-0cc7-49f8-f534-fbaebe561a90"
      },
      "execution_count": 36,
      "outputs": [
        {
          "output_type": "execute_result",
          "data": {
            "text/plain": [
              "(array([2, 1, 3, 3, 2, 6, 2, 1, 2, 2]),\n",
              " array([  8. ,  28.7,  49.4,  70.1,  90.8, 111.5, 132.2, 152.9, 173.6,\n",
              "        194.3, 215. ]))"
            ]
          },
          "metadata": {},
          "execution_count": 36
        }
      ]
    },
    {
      "cell_type": "code",
      "source": [
        "#Copia y ordenamiento\n",
        "numeros1 = numeros #alias en un arreglo\n",
        "numeros1 = np.copy(numeros) #copia del arreglo\n",
        "numeros1"
      ],
      "metadata": {
        "colab": {
          "base_uri": "https://localhost:8080/"
        },
        "id": "Y7YoAkpIAHCw",
        "outputId": "49b5139b-fa06-4efa-a527-9569cb966d50"
      },
      "execution_count": 37,
      "outputs": [
        {
          "output_type": "execute_result",
          "data": {
            "text/plain": [
              "array([[[191, 114, 111,  94],\n",
              "        [  8, 119, 146,  70]],\n",
              "\n",
              "       [[ 30, 176, 156, 139],\n",
              "        [ 60, 115, 196,  71]],\n",
              "\n",
              "       [[ 56,  83, 112,  90],\n",
              "        [119, 215, 112,   8]]])"
            ]
          },
          "metadata": {},
          "execution_count": 37
        }
      ]
    },
    {
      "cell_type": "code",
      "source": [
        "numeros1.sort()\n",
        "numeros1"
      ],
      "metadata": {
        "colab": {
          "base_uri": "https://localhost:8080/"
        },
        "id": "a1l6LGg_AaAq",
        "outputId": "703c585a-03bd-4f7f-9c5d-cdb17995fbfa"
      },
      "execution_count": 39,
      "outputs": [
        {
          "output_type": "execute_result",
          "data": {
            "text/plain": [
              "array([[[ 94, 111, 114, 191],\n",
              "        [  8,  70, 119, 146]],\n",
              "\n",
              "       [[ 30, 139, 156, 176],\n",
              "        [ 60,  71, 115, 196]],\n",
              "\n",
              "       [[ 56,  83,  90, 112],\n",
              "        [  8, 112, 119, 215]]])"
            ]
          },
          "metadata": {},
          "execution_count": 39
        }
      ]
    },
    {
      "cell_type": "code",
      "source": [
        "numeros1.sort(axis=2)\n",
        "numeros1"
      ],
      "metadata": {
        "colab": {
          "base_uri": "https://localhost:8080/"
        },
        "id": "V4ulTASuAkW4",
        "outputId": "f8664c3b-10dd-4cf9-bb39-a6f0fbd4d798"
      },
      "execution_count": 40,
      "outputs": [
        {
          "output_type": "execute_result",
          "data": {
            "text/plain": [
              "array([[[ 94, 111, 114, 191],\n",
              "        [  8,  70, 119, 146]],\n",
              "\n",
              "       [[ 30, 139, 156, 176],\n",
              "        [ 60,  71, 115, 196]],\n",
              "\n",
              "       [[ 56,  83,  90, 112],\n",
              "        [  8, 112, 119, 215]]])"
            ]
          },
          "metadata": {},
          "execution_count": 40
        }
      ]
    },
    {
      "cell_type": "code",
      "source": [
        "numeros1.sort(axis=0)\n",
        "numeros1"
      ],
      "metadata": {
        "colab": {
          "base_uri": "https://localhost:8080/"
        },
        "id": "6FoXM9dhA5JV",
        "outputId": "f8365475-9f17-42de-88bb-ba324942a33b"
      },
      "execution_count": 45,
      "outputs": [
        {
          "output_type": "execute_result",
          "data": {
            "text/plain": [
              "array([[[  8,  70,  90, 112],\n",
              "        [ 56, 111, 119, 191]],\n",
              "\n",
              "       [[  8,  71, 114, 146],\n",
              "        [ 60, 112, 119, 196]],\n",
              "\n",
              "       [[ 30,  83, 115, 176],\n",
              "        [ 94, 139, 156, 215]]])"
            ]
          },
          "metadata": {},
          "execution_count": 45
        }
      ]
    },
    {
      "cell_type": "code",
      "source": [
        "a = np.array([1, 2, 3])\n",
        "b = np.array([(1, 2, 3), (4, 5, 6)])\n",
        "print(a)\n",
        "print(b)\n",
        "print(np.add(a,b))"
      ],
      "metadata": {
        "colab": {
          "base_uri": "https://localhost:8080/"
        },
        "id": "0ldxrbYdBh6i",
        "outputId": "1df7af97-f47e-49c3-d555-470aba5948bf"
      },
      "execution_count": 46,
      "outputs": [
        {
          "output_type": "stream",
          "name": "stdout",
          "text": [
            "[1 2 3]\n",
            "[[1 2 3]\n",
            " [4 5 6]]\n",
            "[[2 4 6]\n",
            " [5 7 9]]\n"
          ]
        }
      ]
    },
    {
      "cell_type": "code",
      "source": [
        "#Suma total de los elementos\n",
        "b.sum()"
      ],
      "metadata": {
        "colab": {
          "base_uri": "https://localhost:8080/"
        },
        "id": "RcHkgURxB3Up",
        "outputId": "7c208e5e-fcf4-4002-87c9-03c58e53d986"
      },
      "execution_count": 47,
      "outputs": [
        {
          "output_type": "execute_result",
          "data": {
            "text/plain": [
              "21"
            ]
          },
          "metadata": {},
          "execution_count": 47
        }
      ]
    },
    {
      "cell_type": "code",
      "source": [
        "#Raiz cuadrada\n",
        "np.sqrt(b)"
      ],
      "metadata": {
        "colab": {
          "base_uri": "https://localhost:8080/"
        },
        "id": "8vVwcHIbCPgF",
        "outputId": "81f7406a-29b4-4dba-d8d7-86baecf69c65"
      },
      "execution_count": 48,
      "outputs": [
        {
          "output_type": "execute_result",
          "data": {
            "text/plain": [
              "array([[1.        , 1.41421356, 1.73205081],\n",
              "       [2.        , 2.23606798, 2.44948974]])"
            ]
          },
          "metadata": {},
          "execution_count": 48
        }
      ]
    },
    {
      "cell_type": "code",
      "source": [
        "#Crear un arreglo con los resiltados de una comparacion logica\n",
        "c = b <= 4\n",
        "c"
      ],
      "metadata": {
        "colab": {
          "base_uri": "https://localhost:8080/"
        },
        "id": "tBvyHIuxCXsi",
        "outputId": "c52a9f85-dc14-4896-bbfa-fcfa57d072a6"
      },
      "execution_count": 49,
      "outputs": [
        {
          "output_type": "execute_result",
          "data": {
            "text/plain": [
              "array([[ True,  True,  True],\n",
              "       [ True, False, False]])"
            ]
          },
          "metadata": {},
          "execution_count": 49
        }
      ]
    }
  ]
}